{
 "cells": [
  {
   "cell_type": "markdown",
   "metadata": {
    "id": "m0bn0FZPYq3h"
   },
   "source": [
    "# Clustering Analysis on Housing Data\n",
    "\n",
    "\n",
    "## Business Problem:\n",
    "\n",
    "A house flipping company would like to identify underpriced homes by comparing asking prices to predicted sale prices.   They would like to segment homes into groups to analyze what kinds of homes there are. They would also like a model that predicts the selling price of a home.\n",
    "\n",
    "The company has provided publicly available data from the King County Assessor's office to use for clustering and prediction.\n",
    "\n",
    "**Data notes:**\n",
    "\n",
    "BrickStone is the percentage of a house that is made of brick or stone.\n",
    "\n",
    "\n",
    "## Objectives\n",
    "\n",
    "The house flipping company would like you to segment the homes sold in the database and create an analytical report on the clusters describing each cluster and describing how they are different. The data has had some cleaning work to it, but you should verify that it is ready for clustering.\n",
    "\n"
   ]
  },
  {
   "cell_type": "markdown",
   "metadata": {
    "id": "21XS3nRHZApv"
   },
   "source": [
    "## Importing Libraries"
   ]
  },
  {
   "cell_type": "code",
   "execution_count": 1,
   "metadata": {
    "id": "wHdyeloEYxZ1"
   },
   "outputs": [],
   "source": [
    "#libraries imported in order to minimise the changing values of predictions from NN models.\n",
    "import tensorflow as tf\n",
    "tf.random.set_seed(321)\n",
    "\n",
    "import numpy as np\n",
    "np.random.seed(123)\n",
    "\n",
    "#Libraries for manupulating and visualizing data\n",
    "import pandas as pd\n",
    "import numpy as np\n",
    "import matplotlib.pyplot as plt\n",
    "import seaborn as sns\n",
    "import plotly.express as px\n",
    "\n",
    "#Preprocessing Libraries for preparing dataset into suitable machine learning format\n",
    "from sklearn.model_selection import train_test_split\n",
    "from sklearn.cluster import KMeans\n",
    "from sklearn.metrics import silhouette_score, mean_squared_error, mean_absolute_error\n",
    "from sklearn.preprocessing import StandardScaler\n",
    "from sklearn.compose import make_column_selector, make_column_transformer\n",
    "from sklearn import set_config\n",
    "set_config(display = \"diagram\")\n",
    "from sklearn.decomposition import PCA\n",
    "\n",
    "\n",
    "#Importing libraries for neural network modelling\n",
    "from tensorflow.keras.models import Sequential\n",
    "from tensorflow.keras.layers import Dense, Dropout\n",
    "from tensorflow.keras.callbacks import EarlyStopping\n",
    "import keras"
   ]
  },
  {
   "cell_type": "markdown",
   "metadata": {
    "id": "P-RlbIqHZFkb"
   },
   "source": [
    "## Loading Dataset"
   ]
  },
  {
   "cell_type": "code",
   "execution_count": 2,
   "metadata": {
    "id": "J6IN8iHS8FEE"
   },
   "outputs": [],
   "source": [
    "Url = r\"Housing Files\\option_A_clustering_df.csv\"\n",
    "df = pd.read_csv(Url)"
   ]
  },
  {
   "cell_type": "markdown",
   "metadata": {
    "id": "JsiP-wdxyybp"
   },
   "source": [
    "### Visualizing data"
   ]
  },
  {
   "cell_type": "code",
   "execution_count": 3,
   "metadata": {
    "colab": {
     "base_uri": "https://localhost:8080/",
     "height": 299
    },
    "id": "MERL913Lxetu",
    "outputId": "03cc436a-ad34-4e2c-9ed0-fe3fb0e42bce"
   },
   "outputs": [
    {
     "data": {
      "text/html": [
       "<div>\n",
       "<style scoped>\n",
       "    .dataframe tbody tr th:only-of-type {\n",
       "        vertical-align: middle;\n",
       "    }\n",
       "\n",
       "    .dataframe tbody tr th {\n",
       "        vertical-align: top;\n",
       "    }\n",
       "\n",
       "    .dataframe thead th {\n",
       "        text-align: right;\n",
       "    }\n",
       "</style>\n",
       "<table border=\"1\" class=\"dataframe\">\n",
       "  <thead>\n",
       "    <tr style=\"text-align: right;\">\n",
       "      <th></th>\n",
       "      <th>SalePrice</th>\n",
       "      <th>SqFt1stFloor</th>\n",
       "      <th>SqFtHalfFloor</th>\n",
       "      <th>SqFt2ndFloor</th>\n",
       "      <th>SqFtUpperFloor</th>\n",
       "      <th>SqFtTotLiving</th>\n",
       "      <th>SqFtTotBasement</th>\n",
       "      <th>SqFtFinBasement</th>\n",
       "      <th>SqFtGarageBasement</th>\n",
       "      <th>SqFtGarageAttached</th>\n",
       "      <th>...</th>\n",
       "      <th>SqFtEnclosedPorch</th>\n",
       "      <th>SqFtDeck</th>\n",
       "      <th>BrickStone</th>\n",
       "      <th>Bedrooms</th>\n",
       "      <th>BathHalfCount</th>\n",
       "      <th>Bath3qtrCount</th>\n",
       "      <th>BathFullCount</th>\n",
       "      <th>YrBuilt</th>\n",
       "      <th>Longitude</th>\n",
       "      <th>Latitude</th>\n",
       "    </tr>\n",
       "  </thead>\n",
       "  <tbody>\n",
       "    <tr>\n",
       "      <th>0</th>\n",
       "      <td>400000</td>\n",
       "      <td>1590</td>\n",
       "      <td>0</td>\n",
       "      <td>0</td>\n",
       "      <td>0</td>\n",
       "      <td>3180</td>\n",
       "      <td>1590</td>\n",
       "      <td>1590</td>\n",
       "      <td>0</td>\n",
       "      <td>600</td>\n",
       "      <td>...</td>\n",
       "      <td>0</td>\n",
       "      <td>220</td>\n",
       "      <td>0</td>\n",
       "      <td>6</td>\n",
       "      <td>0</td>\n",
       "      <td>2</td>\n",
       "      <td>1</td>\n",
       "      <td>1965</td>\n",
       "      <td>-122.196399</td>\n",
       "      <td>47.336118</td>\n",
       "    </tr>\n",
       "    <tr>\n",
       "      <th>1</th>\n",
       "      <td>474250</td>\n",
       "      <td>1390</td>\n",
       "      <td>0</td>\n",
       "      <td>0</td>\n",
       "      <td>0</td>\n",
       "      <td>2200</td>\n",
       "      <td>810</td>\n",
       "      <td>810</td>\n",
       "      <td>0</td>\n",
       "      <td>0</td>\n",
       "      <td>...</td>\n",
       "      <td>0</td>\n",
       "      <td>340</td>\n",
       "      <td>0</td>\n",
       "      <td>4</td>\n",
       "      <td>1</td>\n",
       "      <td>0</td>\n",
       "      <td>1</td>\n",
       "      <td>1945</td>\n",
       "      <td>-122.361913</td>\n",
       "      <td>47.509874</td>\n",
       "    </tr>\n",
       "    <tr>\n",
       "      <th>2</th>\n",
       "      <td>667950</td>\n",
       "      <td>1010</td>\n",
       "      <td>0</td>\n",
       "      <td>1515</td>\n",
       "      <td>0</td>\n",
       "      <td>2525</td>\n",
       "      <td>0</td>\n",
       "      <td>0</td>\n",
       "      <td>0</td>\n",
       "      <td>400</td>\n",
       "      <td>...</td>\n",
       "      <td>0</td>\n",
       "      <td>0</td>\n",
       "      <td>0</td>\n",
       "      <td>4</td>\n",
       "      <td>1</td>\n",
       "      <td>0</td>\n",
       "      <td>2</td>\n",
       "      <td>2019</td>\n",
       "      <td>-122.156684</td>\n",
       "      <td>47.437557</td>\n",
       "    </tr>\n",
       "    <tr>\n",
       "      <th>3</th>\n",
       "      <td>659000</td>\n",
       "      <td>660</td>\n",
       "      <td>0</td>\n",
       "      <td>540</td>\n",
       "      <td>0</td>\n",
       "      <td>1820</td>\n",
       "      <td>620</td>\n",
       "      <td>620</td>\n",
       "      <td>0</td>\n",
       "      <td>0</td>\n",
       "      <td>...</td>\n",
       "      <td>0</td>\n",
       "      <td>100</td>\n",
       "      <td>0</td>\n",
       "      <td>3</td>\n",
       "      <td>1</td>\n",
       "      <td>0</td>\n",
       "      <td>2</td>\n",
       "      <td>2016</td>\n",
       "      <td>-122.370252</td>\n",
       "      <td>47.565146</td>\n",
       "    </tr>\n",
       "    <tr>\n",
       "      <th>4</th>\n",
       "      <td>656500</td>\n",
       "      <td>2310</td>\n",
       "      <td>0</td>\n",
       "      <td>0</td>\n",
       "      <td>0</td>\n",
       "      <td>2310</td>\n",
       "      <td>0</td>\n",
       "      <td>0</td>\n",
       "      <td>0</td>\n",
       "      <td>440</td>\n",
       "      <td>...</td>\n",
       "      <td>0</td>\n",
       "      <td>320</td>\n",
       "      <td>0</td>\n",
       "      <td>3</td>\n",
       "      <td>0</td>\n",
       "      <td>0</td>\n",
       "      <td>2</td>\n",
       "      <td>1967</td>\n",
       "      <td>-122.184194</td>\n",
       "      <td>47.730389</td>\n",
       "    </tr>\n",
       "  </tbody>\n",
       "</table>\n",
       "<p>5 rows × 22 columns</p>\n",
       "</div>"
      ],
      "text/plain": [
       "   SalePrice  SqFt1stFloor  SqFtHalfFloor  SqFt2ndFloor  SqFtUpperFloor  \\\n",
       "0     400000          1590              0             0               0   \n",
       "1     474250          1390              0             0               0   \n",
       "2     667950          1010              0          1515               0   \n",
       "3     659000           660              0           540               0   \n",
       "4     656500          2310              0             0               0   \n",
       "\n",
       "   SqFtTotLiving  SqFtTotBasement  SqFtFinBasement  SqFtGarageBasement  \\\n",
       "0           3180             1590             1590                   0   \n",
       "1           2200              810              810                   0   \n",
       "2           2525                0                0                   0   \n",
       "3           1820              620              620                   0   \n",
       "4           2310                0                0                   0   \n",
       "\n",
       "   SqFtGarageAttached  ...  SqFtEnclosedPorch  SqFtDeck  BrickStone  Bedrooms  \\\n",
       "0                 600  ...                  0       220           0         6   \n",
       "1                   0  ...                  0       340           0         4   \n",
       "2                 400  ...                  0         0           0         4   \n",
       "3                   0  ...                  0       100           0         3   \n",
       "4                 440  ...                  0       320           0         3   \n",
       "\n",
       "   BathHalfCount  Bath3qtrCount  BathFullCount  YrBuilt   Longitude   Latitude  \n",
       "0              0              2              1     1965 -122.196399  47.336118  \n",
       "1              1              0              1     1945 -122.361913  47.509874  \n",
       "2              1              0              2     2019 -122.156684  47.437557  \n",
       "3              1              0              2     2016 -122.370252  47.565146  \n",
       "4              0              0              2     1967 -122.184194  47.730389  \n",
       "\n",
       "[5 rows x 22 columns]"
      ]
     },
     "execution_count": 3,
     "metadata": {},
     "output_type": "execute_result"
    }
   ],
   "source": [
    "#Visualizing the first 5 rows of the dataset\n",
    "df.head()"
   ]
  },
  {
   "cell_type": "markdown",
   "metadata": {
    "id": "eBzJD_pGbw4j"
   },
   "source": [
    "## Data Analysis"
   ]
  },
  {
   "cell_type": "markdown",
   "metadata": {
    "id": "BwchbAr2yr1s"
   },
   "source": [
    "#### Data Information"
   ]
  },
  {
   "cell_type": "code",
   "execution_count": 4,
   "metadata": {
    "colab": {
     "base_uri": "https://localhost:8080/"
    },
    "id": "c8NNrs_LcCwo",
    "outputId": "4e669866-2615-4a6a-95c0-a81c656d7c9f"
   },
   "outputs": [
    {
     "name": "stdout",
     "output_type": "stream",
     "text": [
      "<class 'pandas.core.frame.DataFrame'>\n",
      "RangeIndex: 4944 entries, 0 to 4943\n",
      "Data columns (total 22 columns):\n",
      " #   Column              Non-Null Count  Dtype  \n",
      "---  ------              --------------  -----  \n",
      " 0   SalePrice           4944 non-null   int64  \n",
      " 1   SqFt1stFloor        4944 non-null   int64  \n",
      " 2   SqFtHalfFloor       4944 non-null   int64  \n",
      " 3   SqFt2ndFloor        4944 non-null   int64  \n",
      " 4   SqFtUpperFloor      4944 non-null   int64  \n",
      " 5   SqFtTotLiving       4944 non-null   int64  \n",
      " 6   SqFtTotBasement     4944 non-null   int64  \n",
      " 7   SqFtFinBasement     4944 non-null   int64  \n",
      " 8   SqFtGarageBasement  4944 non-null   int64  \n",
      " 9   SqFtGarageAttached  4944 non-null   int64  \n",
      " 10  DaylightBasement    4944 non-null   int64  \n",
      " 11  SqFtOpenPorch       4944 non-null   int64  \n",
      " 12  SqFtEnclosedPorch   4944 non-null   int64  \n",
      " 13  SqFtDeck            4944 non-null   int64  \n",
      " 14  BrickStone          4944 non-null   int64  \n",
      " 15  Bedrooms            4944 non-null   int64  \n",
      " 16  BathHalfCount       4944 non-null   int64  \n",
      " 17  Bath3qtrCount       4944 non-null   int64  \n",
      " 18  BathFullCount       4944 non-null   int64  \n",
      " 19  YrBuilt             4944 non-null   int64  \n",
      " 20  Longitude           4944 non-null   float64\n",
      " 21  Latitude            4944 non-null   float64\n",
      "dtypes: float64(2), int64(20)\n",
      "memory usage: 849.9 KB\n"
     ]
    }
   ],
   "source": [
    "#Data information: number of columns, rows and data types.\n",
    "df.info()"
   ]
  },
  {
   "cell_type": "markdown",
   "metadata": {
    "id": "YszxKXTS7jQd"
   },
   "source": [
    "All the columns are in numeric form, consisting of int64 dtype and float64. There are no object dtypes in this dataset."
   ]
  },
  {
   "cell_type": "markdown",
   "metadata": {
    "id": "yLLJRQYOyk5A"
   },
   "source": [
    "#### Statistics Summary"
   ]
  },
  {
   "cell_type": "code",
   "execution_count": 5,
   "metadata": {
    "colab": {
     "base_uri": "https://localhost:8080/",
     "height": 394
    },
    "id": "dAoehXD5b0NB",
    "outputId": "2d2401a6-7ed3-44eb-e86b-58b653c7740f"
   },
   "outputs": [
    {
     "data": {
      "text/html": [
       "<div>\n",
       "<style scoped>\n",
       "    .dataframe tbody tr th:only-of-type {\n",
       "        vertical-align: middle;\n",
       "    }\n",
       "\n",
       "    .dataframe tbody tr th {\n",
       "        vertical-align: top;\n",
       "    }\n",
       "\n",
       "    .dataframe thead th {\n",
       "        text-align: right;\n",
       "    }\n",
       "</style>\n",
       "<table border=\"1\" class=\"dataframe\">\n",
       "  <thead>\n",
       "    <tr style=\"text-align: right;\">\n",
       "      <th></th>\n",
       "      <th>SalePrice</th>\n",
       "      <th>SqFt1stFloor</th>\n",
       "      <th>SqFtHalfFloor</th>\n",
       "      <th>SqFt2ndFloor</th>\n",
       "      <th>SqFtUpperFloor</th>\n",
       "      <th>SqFtTotLiving</th>\n",
       "      <th>SqFtTotBasement</th>\n",
       "      <th>SqFtFinBasement</th>\n",
       "      <th>SqFtGarageBasement</th>\n",
       "      <th>SqFtGarageAttached</th>\n",
       "      <th>...</th>\n",
       "      <th>SqFtEnclosedPorch</th>\n",
       "      <th>SqFtDeck</th>\n",
       "      <th>BrickStone</th>\n",
       "      <th>Bedrooms</th>\n",
       "      <th>BathHalfCount</th>\n",
       "      <th>Bath3qtrCount</th>\n",
       "      <th>BathFullCount</th>\n",
       "      <th>YrBuilt</th>\n",
       "      <th>Longitude</th>\n",
       "      <th>Latitude</th>\n",
       "    </tr>\n",
       "  </thead>\n",
       "  <tbody>\n",
       "    <tr>\n",
       "      <th>count</th>\n",
       "      <td>4.944000e+03</td>\n",
       "      <td>4944.000000</td>\n",
       "      <td>4944.000000</td>\n",
       "      <td>4944.000000</td>\n",
       "      <td>4944.000000</td>\n",
       "      <td>4944.000000</td>\n",
       "      <td>4944.000000</td>\n",
       "      <td>4944.000000</td>\n",
       "      <td>4944.000000</td>\n",
       "      <td>4944.000000</td>\n",
       "      <td>...</td>\n",
       "      <td>4944.000000</td>\n",
       "      <td>4944.000000</td>\n",
       "      <td>4944.000000</td>\n",
       "      <td>4944.000000</td>\n",
       "      <td>4944.000000</td>\n",
       "      <td>4944.000000</td>\n",
       "      <td>4944.000000</td>\n",
       "      <td>4944.000000</td>\n",
       "      <td>4944.000000</td>\n",
       "      <td>4944.000000</td>\n",
       "    </tr>\n",
       "    <tr>\n",
       "      <th>mean</th>\n",
       "      <td>6.643497e+05</td>\n",
       "      <td>1175.502832</td>\n",
       "      <td>51.758495</td>\n",
       "      <td>349.306837</td>\n",
       "      <td>26.994134</td>\n",
       "      <td>1935.205097</td>\n",
       "      <td>595.065939</td>\n",
       "      <td>334.273463</td>\n",
       "      <td>102.417071</td>\n",
       "      <td>170.282160</td>\n",
       "      <td>...</td>\n",
       "      <td>8.271238</td>\n",
       "      <td>148.908576</td>\n",
       "      <td>4.415858</td>\n",
       "      <td>3.375607</td>\n",
       "      <td>0.387743</td>\n",
       "      <td>0.628236</td>\n",
       "      <td>1.319579</td>\n",
       "      <td>1972.183455</td>\n",
       "      <td>-122.271891</td>\n",
       "      <td>47.572471</td>\n",
       "    </tr>\n",
       "    <tr>\n",
       "      <th>std</th>\n",
       "      <td>2.978080e+05</td>\n",
       "      <td>446.398643</td>\n",
       "      <td>174.464172</td>\n",
       "      <td>544.632918</td>\n",
       "      <td>115.331907</td>\n",
       "      <td>764.888792</td>\n",
       "      <td>567.175862</td>\n",
       "      <td>422.825946</td>\n",
       "      <td>187.119944</td>\n",
       "      <td>239.635895</td>\n",
       "      <td>...</td>\n",
       "      <td>37.449815</td>\n",
       "      <td>201.636086</td>\n",
       "      <td>18.643753</td>\n",
       "      <td>0.947061</td>\n",
       "      <td>0.506022</td>\n",
       "      <td>0.651598</td>\n",
       "      <td>0.609963</td>\n",
       "      <td>32.905503</td>\n",
       "      <td>0.086519</td>\n",
       "      <td>0.127187</td>\n",
       "    </tr>\n",
       "    <tr>\n",
       "      <th>min</th>\n",
       "      <td>6.000000e+04</td>\n",
       "      <td>260.000000</td>\n",
       "      <td>0.000000</td>\n",
       "      <td>0.000000</td>\n",
       "      <td>0.000000</td>\n",
       "      <td>300.000000</td>\n",
       "      <td>0.000000</td>\n",
       "      <td>0.000000</td>\n",
       "      <td>0.000000</td>\n",
       "      <td>0.000000</td>\n",
       "      <td>...</td>\n",
       "      <td>0.000000</td>\n",
       "      <td>0.000000</td>\n",
       "      <td>0.000000</td>\n",
       "      <td>0.000000</td>\n",
       "      <td>0.000000</td>\n",
       "      <td>0.000000</td>\n",
       "      <td>0.000000</td>\n",
       "      <td>1900.000000</td>\n",
       "      <td>-122.526072</td>\n",
       "      <td>47.213547</td>\n",
       "    </tr>\n",
       "    <tr>\n",
       "      <th>25%</th>\n",
       "      <td>4.500000e+05</td>\n",
       "      <td>880.000000</td>\n",
       "      <td>0.000000</td>\n",
       "      <td>0.000000</td>\n",
       "      <td>0.000000</td>\n",
       "      <td>1390.000000</td>\n",
       "      <td>0.000000</td>\n",
       "      <td>0.000000</td>\n",
       "      <td>0.000000</td>\n",
       "      <td>0.000000</td>\n",
       "      <td>...</td>\n",
       "      <td>0.000000</td>\n",
       "      <td>0.000000</td>\n",
       "      <td>0.000000</td>\n",
       "      <td>3.000000</td>\n",
       "      <td>0.000000</td>\n",
       "      <td>0.000000</td>\n",
       "      <td>1.000000</td>\n",
       "      <td>1952.000000</td>\n",
       "      <td>-122.346573</td>\n",
       "      <td>47.488749</td>\n",
       "    </tr>\n",
       "    <tr>\n",
       "      <th>50%</th>\n",
       "      <td>6.305500e+05</td>\n",
       "      <td>1170.000000</td>\n",
       "      <td>0.000000</td>\n",
       "      <td>0.000000</td>\n",
       "      <td>0.000000</td>\n",
       "      <td>1770.000000</td>\n",
       "      <td>560.000000</td>\n",
       "      <td>110.000000</td>\n",
       "      <td>0.000000</td>\n",
       "      <td>0.000000</td>\n",
       "      <td>...</td>\n",
       "      <td>0.000000</td>\n",
       "      <td>50.000000</td>\n",
       "      <td>0.000000</td>\n",
       "      <td>3.000000</td>\n",
       "      <td>0.000000</td>\n",
       "      <td>1.000000</td>\n",
       "      <td>1.000000</td>\n",
       "      <td>1967.000000</td>\n",
       "      <td>-122.291976</td>\n",
       "      <td>47.576939</td>\n",
       "    </tr>\n",
       "    <tr>\n",
       "      <th>75%</th>\n",
       "      <td>7.886125e+05</td>\n",
       "      <td>1450.000000</td>\n",
       "      <td>0.000000</td>\n",
       "      <td>580.000000</td>\n",
       "      <td>0.000000</td>\n",
       "      <td>2360.000000</td>\n",
       "      <td>1070.000000</td>\n",
       "      <td>570.000000</td>\n",
       "      <td>190.000000</td>\n",
       "      <td>400.000000</td>\n",
       "      <td>...</td>\n",
       "      <td>0.000000</td>\n",
       "      <td>257.000000</td>\n",
       "      <td>0.000000</td>\n",
       "      <td>4.000000</td>\n",
       "      <td>1.000000</td>\n",
       "      <td>1.000000</td>\n",
       "      <td>2.000000</td>\n",
       "      <td>2016.000000</td>\n",
       "      <td>-122.192528</td>\n",
       "      <td>47.681099</td>\n",
       "    </tr>\n",
       "    <tr>\n",
       "      <th>max</th>\n",
       "      <td>1.998000e+06</td>\n",
       "      <td>3600.000000</td>\n",
       "      <td>2000.000000</td>\n",
       "      <td>3010.000000</td>\n",
       "      <td>1220.000000</td>\n",
       "      <td>6695.000000</td>\n",
       "      <td>3070.000000</td>\n",
       "      <td>2620.000000</td>\n",
       "      <td>1090.000000</td>\n",
       "      <td>1830.000000</td>\n",
       "      <td>...</td>\n",
       "      <td>620.000000</td>\n",
       "      <td>1940.000000</td>\n",
       "      <td>100.000000</td>\n",
       "      <td>8.000000</td>\n",
       "      <td>3.000000</td>\n",
       "      <td>4.000000</td>\n",
       "      <td>5.000000</td>\n",
       "      <td>2019.000000</td>\n",
       "      <td>-122.090088</td>\n",
       "      <td>47.777422</td>\n",
       "    </tr>\n",
       "  </tbody>\n",
       "</table>\n",
       "<p>8 rows × 22 columns</p>\n",
       "</div>"
      ],
      "text/plain": [
       "          SalePrice  SqFt1stFloor  SqFtHalfFloor  SqFt2ndFloor  \\\n",
       "count  4.944000e+03   4944.000000    4944.000000   4944.000000   \n",
       "mean   6.643497e+05   1175.502832      51.758495    349.306837   \n",
       "std    2.978080e+05    446.398643     174.464172    544.632918   \n",
       "min    6.000000e+04    260.000000       0.000000      0.000000   \n",
       "25%    4.500000e+05    880.000000       0.000000      0.000000   \n",
       "50%    6.305500e+05   1170.000000       0.000000      0.000000   \n",
       "75%    7.886125e+05   1450.000000       0.000000    580.000000   \n",
       "max    1.998000e+06   3600.000000    2000.000000   3010.000000   \n",
       "\n",
       "       SqFtUpperFloor  SqFtTotLiving  SqFtTotBasement  SqFtFinBasement  \\\n",
       "count     4944.000000    4944.000000      4944.000000      4944.000000   \n",
       "mean        26.994134    1935.205097       595.065939       334.273463   \n",
       "std        115.331907     764.888792       567.175862       422.825946   \n",
       "min          0.000000     300.000000         0.000000         0.000000   \n",
       "25%          0.000000    1390.000000         0.000000         0.000000   \n",
       "50%          0.000000    1770.000000       560.000000       110.000000   \n",
       "75%          0.000000    2360.000000      1070.000000       570.000000   \n",
       "max       1220.000000    6695.000000      3070.000000      2620.000000   \n",
       "\n",
       "       SqFtGarageBasement  SqFtGarageAttached  ...  SqFtEnclosedPorch  \\\n",
       "count         4944.000000         4944.000000  ...        4944.000000   \n",
       "mean           102.417071          170.282160  ...           8.271238   \n",
       "std            187.119944          239.635895  ...          37.449815   \n",
       "min              0.000000            0.000000  ...           0.000000   \n",
       "25%              0.000000            0.000000  ...           0.000000   \n",
       "50%              0.000000            0.000000  ...           0.000000   \n",
       "75%            190.000000          400.000000  ...           0.000000   \n",
       "max           1090.000000         1830.000000  ...         620.000000   \n",
       "\n",
       "          SqFtDeck   BrickStone     Bedrooms  BathHalfCount  Bath3qtrCount  \\\n",
       "count  4944.000000  4944.000000  4944.000000    4944.000000    4944.000000   \n",
       "mean    148.908576     4.415858     3.375607       0.387743       0.628236   \n",
       "std     201.636086    18.643753     0.947061       0.506022       0.651598   \n",
       "min       0.000000     0.000000     0.000000       0.000000       0.000000   \n",
       "25%       0.000000     0.000000     3.000000       0.000000       0.000000   \n",
       "50%      50.000000     0.000000     3.000000       0.000000       1.000000   \n",
       "75%     257.000000     0.000000     4.000000       1.000000       1.000000   \n",
       "max    1940.000000   100.000000     8.000000       3.000000       4.000000   \n",
       "\n",
       "       BathFullCount      YrBuilt    Longitude     Latitude  \n",
       "count    4944.000000  4944.000000  4944.000000  4944.000000  \n",
       "mean        1.319579  1972.183455  -122.271891    47.572471  \n",
       "std         0.609963    32.905503     0.086519     0.127187  \n",
       "min         0.000000  1900.000000  -122.526072    47.213547  \n",
       "25%         1.000000  1952.000000  -122.346573    47.488749  \n",
       "50%         1.000000  1967.000000  -122.291976    47.576939  \n",
       "75%         2.000000  2016.000000  -122.192528    47.681099  \n",
       "max         5.000000  2019.000000  -122.090088    47.777422  \n",
       "\n",
       "[8 rows x 22 columns]"
      ]
     },
     "execution_count": 5,
     "metadata": {},
     "output_type": "execute_result"
    }
   ],
   "source": [
    "#Veiwing the statistics summary of the dataset.\n",
    "df.describe()"
   ]
  },
  {
   "cell_type": "markdown",
   "metadata": {
    "id": "RRjzMfiUyNVj"
   },
   "source": [
    "There seems to be no outliers in this dataset, everything in the summary indicates that normalcy."
   ]
  },
  {
   "cell_type": "markdown",
   "metadata": {
    "id": "XUohAO9TZN73"
   },
   "source": [
    "### Data Cleaning Process"
   ]
  },
  {
   "cell_type": "markdown",
   "metadata": {
    "id": "H8_tCE5cZSH8"
   },
   "source": [
    "#### Checking for null values"
   ]
  },
  {
   "cell_type": "code",
   "execution_count": 6,
   "metadata": {
    "colab": {
     "base_uri": "https://localhost:8080/"
    },
    "id": "cOn-8MPKZcz4",
    "outputId": "613529cd-8621-4117-849c-e9b63249970b"
   },
   "outputs": [
    {
     "data": {
      "text/plain": [
       "SalePrice             0\n",
       "SqFt1stFloor          0\n",
       "SqFtHalfFloor         0\n",
       "SqFt2ndFloor          0\n",
       "SqFtUpperFloor        0\n",
       "SqFtTotLiving         0\n",
       "SqFtTotBasement       0\n",
       "SqFtFinBasement       0\n",
       "SqFtGarageBasement    0\n",
       "SqFtGarageAttached    0\n",
       "DaylightBasement      0\n",
       "SqFtOpenPorch         0\n",
       "SqFtEnclosedPorch     0\n",
       "SqFtDeck              0\n",
       "BrickStone            0\n",
       "Bedrooms              0\n",
       "BathHalfCount         0\n",
       "Bath3qtrCount         0\n",
       "BathFullCount         0\n",
       "YrBuilt               0\n",
       "Longitude             0\n",
       "Latitude              0\n",
       "dtype: int64"
      ]
     },
     "execution_count": 6,
     "metadata": {},
     "output_type": "execute_result"
    }
   ],
   "source": [
    "df.isnull().sum()"
   ]
  },
  {
   "cell_type": "markdown",
   "metadata": {
    "id": "-pdsWaQX8Yt2"
   },
   "source": [
    "There appears to be no null values in this dataset."
   ]
  },
  {
   "cell_type": "markdown",
   "metadata": {
    "id": "IQGtFZ3pZX8C"
   },
   "source": [
    "#### Checking for duplicates"
   ]
  },
  {
   "cell_type": "code",
   "execution_count": 7,
   "metadata": {
    "colab": {
     "base_uri": "https://localhost:8080/"
    },
    "id": "9z6nTnwgZzAg",
    "outputId": "c5a25b8a-60e4-43ff-efbf-0ae14df6545a"
   },
   "outputs": [
    {
     "data": {
      "text/plain": [
       "29"
      ]
     },
     "execution_count": 7,
     "metadata": {},
     "output_type": "execute_result"
    }
   ],
   "source": [
    "df.duplicated().sum()"
   ]
  },
  {
   "cell_type": "markdown",
   "metadata": {
    "id": "p2k-PvpM8_0a"
   },
   "source": [
    "There are 29 duplicated enteries, this is not a significant number as compared to the total number of enteries in the dataset. therefore I will drop them."
   ]
  },
  {
   "cell_type": "markdown",
   "metadata": {
    "id": "oEZ54mb2Z11m"
   },
   "source": [
    "#### Dropping duplicates"
   ]
  },
  {
   "cell_type": "code",
   "execution_count": 8,
   "metadata": {
    "id": "xxVKAAN1Z61I"
   },
   "outputs": [],
   "source": [
    "df = df.drop_duplicates(keep =\"first\")"
   ]
  },
  {
   "cell_type": "markdown",
   "metadata": {
    "id": "Q-D0QIhx9vAQ"
   },
   "source": [
    "#### Confirming changes"
   ]
  },
  {
   "cell_type": "code",
   "execution_count": 9,
   "metadata": {
    "colab": {
     "base_uri": "https://localhost:8080/"
    },
    "id": "d03oTfcD9_6l",
    "outputId": "510204b1-74d4-460f-87a4-046828bdff70"
   },
   "outputs": [
    {
     "data": {
      "text/plain": [
       "0"
      ]
     },
     "execution_count": 9,
     "metadata": {},
     "output_type": "execute_result"
    }
   ],
   "source": [
    "df.duplicated().sum()"
   ]
  },
  {
   "cell_type": "markdown",
   "metadata": {
    "id": "4SHiEvyxBJRh"
   },
   "source": [
    "Duplicate enteries have been successfully dropped."
   ]
  },
  {
   "cell_type": "markdown",
   "metadata": {
    "id": "MdNyxqHy5zKB"
   },
   "source": [
    "## Clustering Analysis"
   ]
  },
  {
   "cell_type": "markdown",
   "metadata": {
    "id": "kIKV3XrECdn4"
   },
   "source": [
    "**Instantiating StandardScaler for scaling of data**"
   ]
  },
  {
   "cell_type": "code",
   "execution_count": 10,
   "metadata": {
    "id": "pxDcRpoByMTS"
   },
   "outputs": [],
   "source": [
    "#Scaling of data with the use of StandardScaler\n",
    "scaler =StandardScaler()\n",
    "scaled_df = scaler.fit_transform(df)"
   ]
  },
  {
   "cell_type": "markdown",
   "metadata": {
    "id": "m3ihdrBjCHwZ"
   },
   "source": [
    "All the columns are already in numeric format, so we only need to scale in preparation for clustering, there is no need for onehot encoder."
   ]
  },
  {
   "cell_type": "markdown",
   "metadata": {
    "id": "uw2Gn58LyJW5"
   },
   "source": [
    "#### Clustering of Data"
   ]
  },
  {
   "cell_type": "markdown",
   "metadata": {
    "id": "tmUD_i2Fz2aL"
   },
   "source": [
    "**Defining a cluster range**"
   ]
  },
  {
   "cell_type": "code",
   "execution_count": 11,
   "metadata": {
    "id": "o5xSgREUzI4Z"
   },
   "outputs": [],
   "source": [
    "cluster_range = range(2,10)\n",
    "silhouettes = []\n",
    "inertias = []\n",
    "\n",
    "\n",
    "for clusters in cluster_range:\n",
    "  kmeans = KMeans(n_clusters = clusters, random_state = 42)\n",
    "  kmeans.fit(scaled_df)\n",
    "\n",
    "  silhouettes.append(silhouette_score(scaled_df, kmeans.labels_))\n",
    "  inertias.append(kmeans.inertia_)\n",
    "\n"
   ]
  },
  {
   "cell_type": "markdown",
   "metadata": {
    "id": "S8kuR1uaz8Y8"
   },
   "source": [
    "**Plotting a simple grapth to retrieve the best cluster number**"
   ]
  },
  {
   "cell_type": "code",
   "execution_count": 12,
   "metadata": {
    "colab": {
     "base_uri": "https://localhost:8080/",
     "height": 347
    },
    "id": "qZgM2RAPFcPX",
    "outputId": "b5318f6c-e2a7-4002-8148-b3fbb793f78a"
   },
   "outputs": [
    {
     "data": {
      "image/png": "[encoded data removed]",
      "text/plain": [
       "<Figure size 1296x504 with 2 Axes>"
      ]
     },
     "metadata": {
      "needs_background": "light"
     },
     "output_type": "display_data"
    }
   ],
   "source": [
    "fig, axes =plt.subplots(1,2, figsize = (18,7))\n",
    "\n",
    "axes[0].plot(cluster_range,silhouettes, marker =\".\")\n",
    "axes[0].set_title('Silhoutte Scores')\n",
    "axes[0].set_xticks(cluster_range)\n",
    "axes[1].plot(cluster_range, inertias, marker =\".\")\n",
    "axes[1].set_title(\"Inertias\")\n",
    "axes[1].set_xticks(cluster_range);"
   ]
  },
  {
   "cell_type": "markdown",
   "metadata": {
    "id": "sbU25vU8KZRZ"
   },
   "source": [
    "**Silhoutte Score:** The highest silhoutte score lies in cluster 5.\n",
    "\n",
    "**Elbow of Inertia:** The deepest dent in the elbow of inertia lies in cluster 4.\n",
    "\n",
    "**Decision:** The decision on the number of clusters is heavily dependant on the knowledge of the domain area. But for the purpose of this project, I will choose the silhouette scores, which indicates 5 number of clusters, because the elbow of inertia showing cluster 4 is not too obvious in the graph ."
   ]
  },
  {
   "cell_type": "markdown",
   "metadata": {
    "id": "uZEdzDbs0ZAL"
   },
   "source": [
    "#### Instantiating Kmeans with 5 clusters"
   ]
  },
  {
   "cell_type": "code",
   "execution_count": 13,
   "metadata": {
    "colab": {
     "base_uri": "https://localhost:8080/",
     "height": 74
    },
    "id": "D69bo__S1gAl",
    "outputId": "c5966e9b-77a3-4665-bbd8-ca0147577728"
   },
   "outputs": [
    {
     "data": {
      "text/html": [
       "<style>#sk-78b7528a-cdcd-40c5-bd93-92acc52288d7 {color: black;background-color: white;}#sk-78b7528a-cdcd-40c5-bd93-92acc52288d7 pre{padding: 0;}#sk-78b7528a-cdcd-40c5-bd93-92acc52288d7 div.sk-toggleable {background-color: white;}#sk-78b7528a-cdcd-40c5-bd93-92acc52288d7 label.sk-toggleable__label {cursor: pointer;display: block;width: 100%;margin-bottom: 0;padding: 0.3em;box-sizing: border-box;text-align: center;}#sk-78b7528a-cdcd-40c5-bd93-92acc52288d7 label.sk-toggleable__label-arrow:before {content: \"▸\";float: left;margin-right: 0.25em;color: #696969;}#sk-78b7528a-cdcd-40c5-bd93-92acc52288d7 label.sk-toggleable__label-arrow:hover:before {color: black;}#sk-78b7528a-cdcd-40c5-bd93-92acc52288d7 div.sk-estimator:hover label.sk-toggleable__label-arrow:before {color: black;}#sk-78b7528a-cdcd-40c5-bd93-92acc52288d7 div.sk-toggleable__content {max-height: 0;max-width: 0;overflow: hidden;text-align: left;background-color: #f0f8ff;}#sk-78b7528a-cdcd-40c5-bd93-92acc52288d7 div.sk-toggleable__content pre {margin: 0.2em;color: black;border-radius: 0.25em;background-color: #f0f8ff;}#sk-78b7528a-cdcd-40c5-bd93-92acc52288d7 input.sk-toggleable__control:checked~div.sk-toggleable__content {max-height: 200px;max-width: 100%;overflow: auto;}#sk-78b7528a-cdcd-40c5-bd93-92acc52288d7 input.sk-toggleable__control:checked~label.sk-toggleable__label-arrow:before {content: \"▾\";}#sk-78b7528a-cdcd-40c5-bd93-92acc52288d7 div.sk-estimator input.sk-toggleable__control:checked~label.sk-toggleable__label {background-color: #d4ebff;}#sk-78b7528a-cdcd-40c5-bd93-92acc52288d7 div.sk-label input.sk-toggleable__control:checked~label.sk-toggleable__label {background-color: #d4ebff;}#sk-78b7528a-cdcd-40c5-bd93-92acc52288d7 input.sk-hidden--visually {border: 0;clip: rect(1px 1px 1px 1px);clip: rect(1px, 1px, 1px, 1px);height: 1px;margin: -1px;overflow: hidden;padding: 0;position: absolute;width: 1px;}#sk-78b7528a-cdcd-40c5-bd93-92acc52288d7 div.sk-estimator {font-family: monospace;background-color: #f0f8ff;border: 1px dotted black;border-radius: 0.25em;box-sizing: border-box;margin-bottom: 0.5em;}#sk-78b7528a-cdcd-40c5-bd93-92acc52288d7 div.sk-estimator:hover {background-color: #d4ebff;}#sk-78b7528a-cdcd-40c5-bd93-92acc52288d7 div.sk-parallel-item::after {content: \"\";width: 100%;border-bottom: 1px solid gray;flex-grow: 1;}#sk-78b7528a-cdcd-40c5-bd93-92acc52288d7 div.sk-label:hover label.sk-toggleable__label {background-color: #d4ebff;}#sk-78b7528a-cdcd-40c5-bd93-92acc52288d7 div.sk-serial::before {content: \"\";position: absolute;border-left: 1px solid gray;box-sizing: border-box;top: 2em;bottom: 0;left: 50%;}#sk-78b7528a-cdcd-40c5-bd93-92acc52288d7 div.sk-serial {display: flex;flex-direction: column;align-items: center;background-color: white;padding-right: 0.2em;padding-left: 0.2em;}#sk-78b7528a-cdcd-40c5-bd93-92acc52288d7 div.sk-item {z-index: 1;}#sk-78b7528a-cdcd-40c5-bd93-92acc52288d7 div.sk-parallel {display: flex;align-items: stretch;justify-content: center;background-color: white;}#sk-78b7528a-cdcd-40c5-bd93-92acc52288d7 div.sk-parallel::before {content: \"\";position: absolute;border-left: 1px solid gray;box-sizing: border-box;top: 2em;bottom: 0;left: 50%;}#sk-78b7528a-cdcd-40c5-bd93-92acc52288d7 div.sk-parallel-item {display: flex;flex-direction: column;position: relative;background-color: white;}#sk-78b7528a-cdcd-40c5-bd93-92acc52288d7 div.sk-parallel-item:first-child::after {align-self: flex-end;width: 50%;}#sk-78b7528a-cdcd-40c5-bd93-92acc52288d7 div.sk-parallel-item:last-child::after {align-self: flex-start;width: 50%;}#sk-78b7528a-cdcd-40c5-bd93-92acc52288d7 div.sk-parallel-item:only-child::after {width: 0;}#sk-78b7528a-cdcd-40c5-bd93-92acc52288d7 div.sk-dashed-wrapped {border: 1px dashed gray;margin: 0 0.4em 0.5em 0.4em;box-sizing: border-box;padding-bottom: 0.4em;background-color: white;position: relative;}#sk-78b7528a-cdcd-40c5-bd93-92acc52288d7 div.sk-label label {font-family: monospace;font-weight: bold;background-color: white;display: inline-block;line-height: 1.2em;}#sk-78b7528a-cdcd-40c5-bd93-92acc52288d7 div.sk-label-container {position: relative;z-index: 2;text-align: center;}#sk-78b7528a-cdcd-40c5-bd93-92acc52288d7 div.sk-container {/* jupyter's `normalize.less` sets `[hidden] { display: none; }` but bootstrap.min.css set `[hidden] { display: none !important; }` so we also need the `!important` here to be able to override the default hidden behavior on the sphinx rendered scikit-learn.org. See: https://github.com/scikit-learn/scikit-learn/issues/21755 */display: inline-block !important;position: relative;}#sk-78b7528a-cdcd-40c5-bd93-92acc52288d7 div.sk-text-repr-fallback {display: none;}</style><div id=\"sk-78b7528a-cdcd-40c5-bd93-92acc52288d7\" class=\"sk-top-container\"><div class=\"sk-text-repr-fallback\"><pre>KMeans(n_clusters=5, random_state=42)</pre><b>Please rerun this cell to show the HTML repr or trust the notebook.</b></div><div class=\"sk-container\" hidden><div class=\"sk-item\"><div class=\"sk-estimator sk-toggleable\"><input class=\"sk-toggleable__control sk-hidden--visually\" id=\"d2bc7848-c10a-422a-9bf6-ded5a3e4ec07\" type=\"checkbox\" checked><label for=\"d2bc7848-c10a-422a-9bf6-ded5a3e4ec07\" class=\"sk-toggleable__label sk-toggleable__label-arrow\">KMeans</label><div class=\"sk-toggleable__content\"><pre>KMeans(n_clusters=5, random_state=42)</pre></div></div></div></div></div>"
      ],
      "text/plain": [
       "KMeans(n_clusters=5, random_state=42)"
      ]
     },
     "execution_count": 13,
     "metadata": {},
     "output_type": "execute_result"
    }
   ],
   "source": [
    "kmeans_best = KMeans(n_clusters = 5, random_state = 42)\n",
    "kmeans_best.fit(scaled_df)\n"
   ]
  },
  {
   "cell_type": "markdown",
   "metadata": {
    "id": "-12hsofZ0p53"
   },
   "source": [
    "**Adding the column containing clusters to the dataframe, df[\"cluster]**"
   ]
  },
  {
   "cell_type": "code",
   "execution_count": 14,
   "metadata": {
    "colab": {
     "base_uri": "https://localhost:8080/",
     "height": 299
    },
    "id": "AeuMh8Ld0nVC",
    "outputId": "ac20fad2-a7af-4b86-adb9-6b7f08973396"
   },
   "outputs": [
    {
     "data": {
      "text/html": [
       "<div>\n",
       "<style scoped>\n",
       "    .dataframe tbody tr th:only-of-type {\n",
       "        vertical-align: middle;\n",
       "    }\n",
       "\n",
       "    .dataframe tbody tr th {\n",
       "        vertical-align: top;\n",
       "    }\n",
       "\n",
       "    .dataframe thead th {\n",
       "        text-align: right;\n",
       "    }\n",
       "</style>\n",
       "<table border=\"1\" class=\"dataframe\">\n",
       "  <thead>\n",
       "    <tr style=\"text-align: right;\">\n",
       "      <th></th>\n",
       "      <th>SalePrice</th>\n",
       "      <th>SqFt1stFloor</th>\n",
       "      <th>SqFtHalfFloor</th>\n",
       "      <th>SqFt2ndFloor</th>\n",
       "      <th>SqFtUpperFloor</th>\n",
       "      <th>SqFtTotLiving</th>\n",
       "      <th>SqFtTotBasement</th>\n",
       "      <th>SqFtFinBasement</th>\n",
       "      <th>SqFtGarageBasement</th>\n",
       "      <th>SqFtGarageAttached</th>\n",
       "      <th>...</th>\n",
       "      <th>SqFtDeck</th>\n",
       "      <th>BrickStone</th>\n",
       "      <th>Bedrooms</th>\n",
       "      <th>BathHalfCount</th>\n",
       "      <th>Bath3qtrCount</th>\n",
       "      <th>BathFullCount</th>\n",
       "      <th>YrBuilt</th>\n",
       "      <th>Longitude</th>\n",
       "      <th>Latitude</th>\n",
       "      <th>cluster</th>\n",
       "    </tr>\n",
       "  </thead>\n",
       "  <tbody>\n",
       "    <tr>\n",
       "      <th>0</th>\n",
       "      <td>400000</td>\n",
       "      <td>1590</td>\n",
       "      <td>0</td>\n",
       "      <td>0</td>\n",
       "      <td>0</td>\n",
       "      <td>3180</td>\n",
       "      <td>1590</td>\n",
       "      <td>1590</td>\n",
       "      <td>0</td>\n",
       "      <td>600</td>\n",
       "      <td>...</td>\n",
       "      <td>220</td>\n",
       "      <td>0</td>\n",
       "      <td>6</td>\n",
       "      <td>0</td>\n",
       "      <td>2</td>\n",
       "      <td>1</td>\n",
       "      <td>1965</td>\n",
       "      <td>-122.196399</td>\n",
       "      <td>47.336118</td>\n",
       "      <td>2</td>\n",
       "    </tr>\n",
       "    <tr>\n",
       "      <th>1</th>\n",
       "      <td>474250</td>\n",
       "      <td>1390</td>\n",
       "      <td>0</td>\n",
       "      <td>0</td>\n",
       "      <td>0</td>\n",
       "      <td>2200</td>\n",
       "      <td>810</td>\n",
       "      <td>810</td>\n",
       "      <td>0</td>\n",
       "      <td>0</td>\n",
       "      <td>...</td>\n",
       "      <td>340</td>\n",
       "      <td>0</td>\n",
       "      <td>4</td>\n",
       "      <td>1</td>\n",
       "      <td>0</td>\n",
       "      <td>1</td>\n",
       "      <td>1945</td>\n",
       "      <td>-122.361913</td>\n",
       "      <td>47.509874</td>\n",
       "      <td>2</td>\n",
       "    </tr>\n",
       "    <tr>\n",
       "      <th>2</th>\n",
       "      <td>667950</td>\n",
       "      <td>1010</td>\n",
       "      <td>0</td>\n",
       "      <td>1515</td>\n",
       "      <td>0</td>\n",
       "      <td>2525</td>\n",
       "      <td>0</td>\n",
       "      <td>0</td>\n",
       "      <td>0</td>\n",
       "      <td>400</td>\n",
       "      <td>...</td>\n",
       "      <td>0</td>\n",
       "      <td>0</td>\n",
       "      <td>4</td>\n",
       "      <td>1</td>\n",
       "      <td>0</td>\n",
       "      <td>2</td>\n",
       "      <td>2019</td>\n",
       "      <td>-122.156684</td>\n",
       "      <td>47.437557</td>\n",
       "      <td>4</td>\n",
       "    </tr>\n",
       "    <tr>\n",
       "      <th>3</th>\n",
       "      <td>659000</td>\n",
       "      <td>660</td>\n",
       "      <td>0</td>\n",
       "      <td>540</td>\n",
       "      <td>0</td>\n",
       "      <td>1820</td>\n",
       "      <td>620</td>\n",
       "      <td>620</td>\n",
       "      <td>0</td>\n",
       "      <td>0</td>\n",
       "      <td>...</td>\n",
       "      <td>100</td>\n",
       "      <td>0</td>\n",
       "      <td>3</td>\n",
       "      <td>1</td>\n",
       "      <td>0</td>\n",
       "      <td>2</td>\n",
       "      <td>2016</td>\n",
       "      <td>-122.370252</td>\n",
       "      <td>47.565146</td>\n",
       "      <td>1</td>\n",
       "    </tr>\n",
       "    <tr>\n",
       "      <th>4</th>\n",
       "      <td>656500</td>\n",
       "      <td>2310</td>\n",
       "      <td>0</td>\n",
       "      <td>0</td>\n",
       "      <td>0</td>\n",
       "      <td>2310</td>\n",
       "      <td>0</td>\n",
       "      <td>0</td>\n",
       "      <td>0</td>\n",
       "      <td>440</td>\n",
       "      <td>...</td>\n",
       "      <td>320</td>\n",
       "      <td>0</td>\n",
       "      <td>3</td>\n",
       "      <td>0</td>\n",
       "      <td>0</td>\n",
       "      <td>2</td>\n",
       "      <td>1967</td>\n",
       "      <td>-122.184194</td>\n",
       "      <td>47.730389</td>\n",
       "      <td>3</td>\n",
       "    </tr>\n",
       "  </tbody>\n",
       "</table>\n",
       "<p>5 rows × 23 columns</p>\n",
       "</div>"
      ],
      "text/plain": [
       "   SalePrice  SqFt1stFloor  SqFtHalfFloor  SqFt2ndFloor  SqFtUpperFloor  \\\n",
       "0     400000          1590              0             0               0   \n",
       "1     474250          1390              0             0               0   \n",
       "2     667950          1010              0          1515               0   \n",
       "3     659000           660              0           540               0   \n",
       "4     656500          2310              0             0               0   \n",
       "\n",
       "   SqFtTotLiving  SqFtTotBasement  SqFtFinBasement  SqFtGarageBasement  \\\n",
       "0           3180             1590             1590                   0   \n",
       "1           2200              810              810                   0   \n",
       "2           2525                0                0                   0   \n",
       "3           1820              620              620                   0   \n",
       "4           2310                0                0                   0   \n",
       "\n",
       "   SqFtGarageAttached  ...  SqFtDeck  BrickStone  Bedrooms  BathHalfCount  \\\n",
       "0                 600  ...       220           0         6              0   \n",
       "1                   0  ...       340           0         4              1   \n",
       "2                 400  ...         0           0         4              1   \n",
       "3                   0  ...       100           0         3              1   \n",
       "4                 440  ...       320           0         3              0   \n",
       "\n",
       "   Bath3qtrCount  BathFullCount  YrBuilt   Longitude   Latitude  cluster  \n",
       "0              2              1     1965 -122.196399  47.336118        2  \n",
       "1              0              1     1945 -122.361913  47.509874        2  \n",
       "2              0              2     2019 -122.156684  47.437557        4  \n",
       "3              0              2     2016 -122.370252  47.565146        1  \n",
       "4              0              2     1967 -122.184194  47.730389        3  \n",
       "\n",
       "[5 rows x 23 columns]"
      ]
     },
     "execution_count": 14,
     "metadata": {},
     "output_type": "execute_result"
    }
   ],
   "source": [
    "df[\"cluster\"] = kmeans_best.labels_\n",
    "df.head()"
   ]
  },
  {
   "cell_type": "markdown",
   "metadata": {
    "id": "ehEuOTyo1PNp"
   },
   "source": [
    "### Analysis and report on clusters"
   ]
  },
  {
   "cell_type": "markdown",
   "metadata": {
    "id": "LFkksaOW1M72"
   },
   "source": [
    "**Grouping the columns by clusters**"
   ]
  },
  {
   "cell_type": "code",
   "execution_count": 15,
   "metadata": {
    "colab": {
     "base_uri": "https://localhost:8080/",
     "height": 299
    },
    "id": "AZNhP8cA2mNk",
    "outputId": "b4f8cad9-d39f-44ca-d92c-1b4b6ed50f98"
   },
   "outputs": [
    {
     "data": {
      "text/html": [
       "<div>\n",
       "<style scoped>\n",
       "    .dataframe tbody tr th:only-of-type {\n",
       "        vertical-align: middle;\n",
       "    }\n",
       "\n",
       "    .dataframe tbody tr th {\n",
       "        vertical-align: top;\n",
       "    }\n",
       "\n",
       "    .dataframe thead th {\n",
       "        text-align: right;\n",
       "    }\n",
       "</style>\n",
       "<table border=\"1\" class=\"dataframe\">\n",
       "  <thead>\n",
       "    <tr style=\"text-align: right;\">\n",
       "      <th></th>\n",
       "      <th>cluster</th>\n",
       "      <th>SalePrice</th>\n",
       "      <th>SqFt1stFloor</th>\n",
       "      <th>SqFtHalfFloor</th>\n",
       "      <th>SqFt2ndFloor</th>\n",
       "      <th>SqFtUpperFloor</th>\n",
       "      <th>SqFtTotLiving</th>\n",
       "      <th>SqFtTotBasement</th>\n",
       "      <th>SqFtFinBasement</th>\n",
       "      <th>SqFtGarageBasement</th>\n",
       "      <th>...</th>\n",
       "      <th>SqFtEnclosedPorch</th>\n",
       "      <th>SqFtDeck</th>\n",
       "      <th>BrickStone</th>\n",
       "      <th>Bedrooms</th>\n",
       "      <th>BathHalfCount</th>\n",
       "      <th>Bath3qtrCount</th>\n",
       "      <th>BathFullCount</th>\n",
       "      <th>YrBuilt</th>\n",
       "      <th>Longitude</th>\n",
       "      <th>Latitude</th>\n",
       "    </tr>\n",
       "  </thead>\n",
       "  <tbody>\n",
       "    <tr>\n",
       "      <th>0</th>\n",
       "      <td>0</td>\n",
       "      <td>800569.378238</td>\n",
       "      <td>1308.393782</td>\n",
       "      <td>129.222798</td>\n",
       "      <td>104.507772</td>\n",
       "      <td>10.310881</td>\n",
       "      <td>2074.663212</td>\n",
       "      <td>1030.466321</td>\n",
       "      <td>523.937824</td>\n",
       "      <td>135.233161</td>\n",
       "      <td>...</td>\n",
       "      <td>4.766839</td>\n",
       "      <td>98.393782</td>\n",
       "      <td>92.979275</td>\n",
       "      <td>3.222798</td>\n",
       "      <td>0.352332</td>\n",
       "      <td>0.523316</td>\n",
       "      <td>1.176166</td>\n",
       "      <td>1947.637306</td>\n",
       "      <td>-122.313914</td>\n",
       "      <td>47.609316</td>\n",
       "    </tr>\n",
       "    <tr>\n",
       "      <th>1</th>\n",
       "      <td>1</td>\n",
       "      <td>699416.967352</td>\n",
       "      <td>562.315599</td>\n",
       "      <td>6.339782</td>\n",
       "      <td>557.292624</td>\n",
       "      <td>147.264813</td>\n",
       "      <td>1536.906892</td>\n",
       "      <td>374.007255</td>\n",
       "      <td>267.320435</td>\n",
       "      <td>102.137848</td>\n",
       "      <td>...</td>\n",
       "      <td>16.070133</td>\n",
       "      <td>299.377267</td>\n",
       "      <td>0.000000</td>\n",
       "      <td>2.756953</td>\n",
       "      <td>0.530834</td>\n",
       "      <td>0.908102</td>\n",
       "      <td>1.240629</td>\n",
       "      <td>2015.915357</td>\n",
       "      <td>-122.332590</td>\n",
       "      <td>47.616170</td>\n",
       "    </tr>\n",
       "    <tr>\n",
       "      <th>2</th>\n",
       "      <td>2</td>\n",
       "      <td>701105.388093</td>\n",
       "      <td>1412.025622</td>\n",
       "      <td>24.296910</td>\n",
       "      <td>82.800301</td>\n",
       "      <td>0.000000</td>\n",
       "      <td>2324.215524</td>\n",
       "      <td>1229.103994</td>\n",
       "      <td>805.243406</td>\n",
       "      <td>243.906556</td>\n",
       "      <td>...</td>\n",
       "      <td>6.053504</td>\n",
       "      <td>206.767898</td>\n",
       "      <td>1.555388</td>\n",
       "      <td>3.830445</td>\n",
       "      <td>0.403919</td>\n",
       "      <td>0.942728</td>\n",
       "      <td>1.316503</td>\n",
       "      <td>1965.336096</td>\n",
       "      <td>-122.250080</td>\n",
       "      <td>47.578438</td>\n",
       "    </tr>\n",
       "    <tr>\n",
       "      <th>3</th>\n",
       "      <td>3</td>\n",
       "      <td>529702.510753</td>\n",
       "      <td>1199.045699</td>\n",
       "      <td>91.982796</td>\n",
       "      <td>67.500000</td>\n",
       "      <td>0.000000</td>\n",
       "      <td>1435.270430</td>\n",
       "      <td>347.100538</td>\n",
       "      <td>81.279570</td>\n",
       "      <td>25.956989</td>\n",
       "      <td>...</td>\n",
       "      <td>7.876344</td>\n",
       "      <td>67.243548</td>\n",
       "      <td>0.843011</td>\n",
       "      <td>3.027957</td>\n",
       "      <td>0.207527</td>\n",
       "      <td>0.286022</td>\n",
       "      <td>1.096237</td>\n",
       "      <td>1947.485484</td>\n",
       "      <td>-122.283790</td>\n",
       "      <td>47.554594</td>\n",
       "    </tr>\n",
       "    <tr>\n",
       "      <th>4</th>\n",
       "      <td>4</td>\n",
       "      <td>872449.639831</td>\n",
       "      <td>1375.221751</td>\n",
       "      <td>30.889831</td>\n",
       "      <td>1399.980226</td>\n",
       "      <td>9.307910</td>\n",
       "      <td>2962.275424</td>\n",
       "      <td>208.494350</td>\n",
       "      <td>147.621469</td>\n",
       "      <td>28.895480</td>\n",
       "      <td>...</td>\n",
       "      <td>5.070621</td>\n",
       "      <td>90.925141</td>\n",
       "      <td>0.360169</td>\n",
       "      <td>4.227401</td>\n",
       "      <td>0.673729</td>\n",
       "      <td>0.632768</td>\n",
       "      <td>2.048023</td>\n",
       "      <td>2003.652542</td>\n",
       "      <td>-122.197298</td>\n",
       "      <td>47.546035</td>\n",
       "    </tr>\n",
       "  </tbody>\n",
       "</table>\n",
       "<p>5 rows × 23 columns</p>\n",
       "</div>"
      ],
      "text/plain": [
       "   cluster      SalePrice  SqFt1stFloor  SqFtHalfFloor  SqFt2ndFloor  \\\n",
       "0        0  800569.378238   1308.393782     129.222798    104.507772   \n",
       "1        1  699416.967352    562.315599       6.339782    557.292624   \n",
       "2        2  701105.388093   1412.025622      24.296910     82.800301   \n",
       "3        3  529702.510753   1199.045699      91.982796     67.500000   \n",
       "4        4  872449.639831   1375.221751      30.889831   1399.980226   \n",
       "\n",
       "   SqFtUpperFloor  SqFtTotLiving  SqFtTotBasement  SqFtFinBasement  \\\n",
       "0       10.310881    2074.663212      1030.466321       523.937824   \n",
       "1      147.264813    1536.906892       374.007255       267.320435   \n",
       "2        0.000000    2324.215524      1229.103994       805.243406   \n",
       "3        0.000000    1435.270430       347.100538        81.279570   \n",
       "4        9.307910    2962.275424       208.494350       147.621469   \n",
       "\n",
       "   SqFtGarageBasement  ...  SqFtEnclosedPorch    SqFtDeck  BrickStone  \\\n",
       "0          135.233161  ...           4.766839   98.393782   92.979275   \n",
       "1          102.137848  ...          16.070133  299.377267    0.000000   \n",
       "2          243.906556  ...           6.053504  206.767898    1.555388   \n",
       "3           25.956989  ...           7.876344   67.243548    0.843011   \n",
       "4           28.895480  ...           5.070621   90.925141    0.360169   \n",
       "\n",
       "   Bedrooms  BathHalfCount  Bath3qtrCount  BathFullCount      YrBuilt  \\\n",
       "0  3.222798       0.352332       0.523316       1.176166  1947.637306   \n",
       "1  2.756953       0.530834       0.908102       1.240629  2015.915357   \n",
       "2  3.830445       0.403919       0.942728       1.316503  1965.336096   \n",
       "3  3.027957       0.207527       0.286022       1.096237  1947.485484   \n",
       "4  4.227401       0.673729       0.632768       2.048023  2003.652542   \n",
       "\n",
       "    Longitude   Latitude  \n",
       "0 -122.313914  47.609316  \n",
       "1 -122.332590  47.616170  \n",
       "2 -122.250080  47.578438  \n",
       "3 -122.283790  47.554594  \n",
       "4 -122.197298  47.546035  \n",
       "\n",
       "[5 rows x 23 columns]"
      ]
     },
     "execution_count": 15,
     "metadata": {},
     "output_type": "execute_result"
    }
   ],
   "source": [
    "cluster_groups = df.groupby(\"cluster\", as_index = False).mean()\n",
    "cluster_groups"
   ]
  },
  {
   "cell_type": "markdown",
   "metadata": {
    "id": "Rl3Xi64S2HNJ"
   },
   "source": [
    "#### Differences between Clusters\n",
    "\n"
   ]
  },
  {
   "cell_type": "code",
   "execution_count": 16,
   "metadata": {
    "colab": {
     "base_uri": "https://localhost:8080/",
     "height": 340
    },
    "id": "VtusooFQOpf0",
    "outputId": "44fb430a-3498-462d-c2cf-eba49606e2a2"
   },
   "outputs": [
    {
     "data": {
      "image/png": "[encoded data removed]",
      "text/plain": [
       "<Figure size 1440x576 with 24 Axes>"
      ]
     },
     "metadata": {
      "needs_background": "light"
     },
     "output_type": "display_data"
    }
   ],
   "source": [
    "#Exlpanaory visualization on variations between clusters\n",
    "fig, axes =plt.subplots(4,6, figsize = (20,8))\n",
    "fig.tight_layout()\n",
    "axes = axes.ravel()\n",
    "\n",
    "for i, column in enumerate(cluster_groups.columns[1:]):\n",
    "                        axes[i].bar(cluster_groups[\"cluster\"], cluster_groups[column])\n",
    "                        axes[i].set_title(column)\n",
    "                      "
   ]
  },
  {
   "cell_type": "code",
   "execution_count": 17,
   "metadata": {
    "colab": {
     "base_uri": "https://localhost:8080/"
    },
    "id": "EsReyh2DujDK",
    "outputId": "564d1c93-da93-430e-fb4d-00f9ac4cd958"
   },
   "outputs": [
    {
     "data": {
      "text/plain": [
       "0    0\n",
       "1    1\n",
       "2    2\n",
       "3    3\n",
       "4    4\n",
       "Name: cluster, dtype: int64"
      ]
     },
     "execution_count": 17,
     "metadata": {},
     "output_type": "execute_result"
    }
   ],
   "source": [
    "cluster_groups[\"cluster\"]"
   ]
  },
  {
   "cell_type": "markdown",
   "metadata": {
    "id": "Hia0MEb4Pdmb"
   },
   "source": [
    "### Analysing Clusters"
   ]
  },
  {
   "cell_type": "markdown",
   "metadata": {
    "id": "Hia0MEb4Pdmb"
   },
   "source": [
    "**Cluster 0**\n",
    "\n",
    "Houses in this cluster have an average of the following:\n",
    "*   Sales price:            $800,000\n",
    "*   First floor size:       over 1500 sqft.\n",
    "*   Half floor size:        about 150sqft.\n",
    "*   2nd floor size :        less than 10 sqft. \n",
    "*   Upper floor:            less than 10 sqft\n",
    "*   Total living space:     2000 sqft.\n",
    "*   Basement size:          About 1000 sqft.\n",
    "*   Finished basement size: 500 sqft.\n",
    "*   Garage basement:        140 sqft\n",
    "*   Attached garage:        About 90 sqft\n",
    "*   Daylight basement:      about 0.3\n",
    "*   Open porch:             40sqft\n",
    "*   Enclosed porch:         less than 5 sqft\n",
    "*   Deck:                   About 100sqft\n",
    "*   Brickstone:             About 100%\n",
    "*   Bedrooms:               3\n",
    "*   Bathhalfcount:          less than 0.4\n",
    "*   Bath3qtr count:         About 0.5\n",
    "*   Bathfullcount:          1\n",
    "*   Year:                   2000.\n",
    "*   Longitude:              Above 0 \n",
    "*   Latitude:               50\n",
    "\n",
    "\n",
    "\n",
    "\n",
    "**Cluster 1**\n",
    "\n",
    "Houses in this cluster have an average of the following:\n",
    "*   Sales price:            $700,000\n",
    "*   First floor size:       About 500 sqft.\n",
    "*   Half floor size:        less than 10sqft.\n",
    "*   2nd floor size :        About 500 sqft. \n",
    "*   Upper floor:            About 140 sqft\n",
    "*   Total living space:     About 1500sqft.\n",
    "*   Basement size:          about 400 sqft.\n",
    "*   Finished basement size: 250 sqft.\n",
    "*   Garage basement:        100 sqft\n",
    "*   Attached garage:        About 5sqft\n",
    "*   Daylight basement:      about 0.6\n",
    "*   Open porch:             30sqft\n",
    "*   Enclosed porch:         Over 15 sqft\n",
    "*   Deck:                   About 300sqft\n",
    "*   Brickstone:             None\n",
    "*   Bedrooms:               2.5\n",
    "*   Bathhalfcount:          Less than 0.5\n",
    "*   Bath3qtr count:         1\n",
    "*   Bathfullcount:          1\n",
    "*   Year:                   2000\n",
    "*   Longitude:              Above 0 \n",
    "*   Latitude:               50\n",
    "\n",
    "**Cluster 2**\n",
    "\n",
    "Houses in this cluster have an average of the following:\n",
    "*   Sales price:            $700,000\n",
    "*   First floor size:       over 1500 sqft.\n",
    "*   Half floor size:        about 20sqft.\n",
    "*   2nd floor size :        less than 10 sqft. \n",
    "*   Upper floor:            none\n",
    "*   Total living space:     2500sqft.\n",
    "*   Basement size:          about 1500 sqft.\n",
    "*   Finished basement size: 800 sqft.\n",
    "*   Garage basement:        300 sqft\n",
    "*   Attached garage:        less than 130sqft\n",
    "*   Daylight basement:      about 0.8\n",
    "*   Open porch:             40 sqft\n",
    "*   Enclosed porch:         6 sqft\n",
    "*   Deck:                   About 200 sqft\n",
    "*   Brickstone:             Less than 5%\n",
    "*   Bedrooms:               4.\n",
    "*   Bathhalfcount:          About 0.4\n",
    "*   Bath3qtr count:         About 1\n",
    "*   Bathfullcount:          1.4\n",
    "*   Year:                   2000.\n",
    "*   Longitude:              Above 0 \n",
    "*   Latitude:               50\n",
    "\n",
    "\n",
    "**Cluster 3**\n",
    "\n",
    "Houses in this cluster have an average of the following:\n",
    "*   Sales price:            $500,000\n",
    "*   First floor size:       1300 sqft.\n",
    "*   Half floor size:        about 80sqft.\n",
    "*   2nd floor size :        less than 10 sqft. \n",
    "*   Upper floor:            none\n",
    "*   Total living space:     2500sqft.\n",
    "*   Basement size:          1400 sqft.\n",
    "*   Finished basement size: 30 sqft.\n",
    "*   Garage basement:        20 sqft\n",
    "*   Attached garage:        About 150sqft\n",
    "*   Daylight basement:      about 0.05\n",
    "*   Open porch:             40 sqft\n",
    "*   Enclosed porch:         7.5 sqft\n",
    "*   Deck:                   50 sqft\n",
    "*   Brickstone:             Less than 5%\n",
    "*   Bedrooms:               3\n",
    "*   Bathhalfcount:          About 0.3\n",
    "*   Bath3qtr count:         About 0.3\n",
    "*   Bathfullcount:          1\n",
    "*   Year:                   2000.\n",
    "*   Longitude:              Above 0 \n",
    "*   Latitude:               50\n",
    "\n",
    "**Cluster 4**\n",
    "\n",
    "Houses in this cluster have an average of the following:\n",
    "*   Sales price:            Over $800,000\n",
    "*   First floor size:       over 1500 sqft.\n",
    "*   Half floor size:        about 30sqft.\n",
    "*   2nd floor size :        Over 1500 sqft. \n",
    "*   Upper floor:            Less than 10%\n",
    "*   Total living space:     Over 3500 sqft.\n",
    "*   Basement size:          about 200 sqft.\n",
    "*   Finished basement size: About 150 sqft.\n",
    "*   Garage basement:        20 sqft\n",
    "*   Attached garage:        About 500\n",
    "*   Daylight basement:      about 0.08\n",
    "*   Open porch:             Over 150 sqft\n",
    "*   Enclosed porch:         5 sqft\n",
    "*   Deck:                   About 100 sqft\n",
    "*   Brickstone:             Less than 5%\n",
    "*   Bedrooms:               More than 4.\n",
    "*   Bathhalfcount:          More than 0.6\n",
    "*   Bath3qtr count:         About 0.6\n",
    "*   Bathfullcount:          More than 2\n",
    "*   Year:                   2000.\n",
    "*   Longitude:              Above 0 \n",
    "*   Latitude:               50"
   ]
  },
  {
   "cell_type": "markdown",
   "metadata": {
    "id": "fccT7ssR1oF2"
   },
   "source": [
    "### Visualizing the relations between clusters and the sales price"
   ]
  },
  {
   "cell_type": "code",
   "execution_count": 18,
   "metadata": {
    "colab": {
     "base_uri": "https://localhost:8080/",
     "height": 339
    },
    "id": "CzrElv_XshYy",
    "outputId": "035e3898-f9e5-46a6-b7ed-03aa782e732d"
   },
   "outputs": [
    {
     "data": {
      "image/png": "[encoded data removed]",
      "text/plain": [
       "<Figure size 864x360 with 1 Axes>"
      ]
     },
     "metadata": {},
     "output_type": "display_data"
    }
   ],
   "source": [
    "plt.rcParams [\"figure.figsize\"] =(12,5)\n",
    "sns.set_theme(style = \"whitegrid\")\n",
    "ax =sns.barplot(y =cluster_groups[\"SalePrice\"], x =cluster_groups[\"cluster\"], data =df)"
   ]
  },
  {
   "cell_type": "markdown",
   "metadata": {
    "id": "XFW63lED103a"
   },
   "source": [
    "### Report on visualization\n",
    "**The graph above indicates that houses in cluster 4 are the most expensive, with an average sales price of about 900,000 dollars. Houses in cluster 0 are the next most expensive set, with average sales price of about 800,000 dollars. Houses in cluster 1 and 2 have the same average sales price of about 700,000 dollars. The least expensive set of houses are in cluster 3 with an average sales price of about 500,000 dollars.**"
   ]
  },
  {
   "cell_type": "markdown",
   "metadata": {
    "id": "rm1e-6ZSAcX9"
   },
   "source": [
    "\n",
    "\n",
    "---\n",
    "\n",
    "\n",
    "# Phase 2:\n",
    "> ##  Regression Modeling"
   ]
  },
  {
   "cell_type": "markdown",
   "metadata": {
    "id": "Oo6Ypl_xAq6W"
   },
   "source": [
    "## Business Problem:\n",
    "\n",
    "The house flipping company has provided new data about when the homes were sold and what businesses are nearby.  This new data has created a very large number of columns as the businesses, months sold, and years sold are all one-hot encoded.  \n",
    "\n",
    "## Objectives\n",
    "They would like this new dataset to be used and create a deep learning model that predicts the likely sale price for a new home coming to market.\n",
    "\n",
    "Note: SalePrice is the target variable"
   ]
  },
  {
   "cell_type": "markdown",
   "metadata": {
    "id": "obQAR7KB5FbA"
   },
   "source": [
    "### Loading of Dataset**"
   ]
  },
  {
   "cell_type": "code",
   "execution_count": 19,
   "metadata": {},
   "outputs": [],
   "source": [
    "Url = \"Housing Files\\option_A_modeling_df.csv\""
   ]
  },
  {
   "cell_type": "code",
   "execution_count": 20,
   "metadata": {
    "id": "GZ_2pJ8EAaHl"
   },
   "outputs": [],
   "source": [
    "df1 = pd.read_csv(Url)"
   ]
  },
  {
   "cell_type": "markdown",
   "metadata": {
    "id": "1QCNWLlb5JIw"
   },
   "source": [
    "**Display of first 5 rows of dataset**"
   ]
  },
  {
   "cell_type": "code",
   "execution_count": 21,
   "metadata": {
    "colab": {
     "base_uri": "https://localhost:8080/",
     "height": 299
    },
    "id": "ikM6l2bSAaHl",
    "outputId": "4d66951b-9203-4ab0-dcc8-17671bb7c0e0"
   },
   "outputs": [
    {
     "data": {
      "text/html": [
       "<div>\n",
       "<style scoped>\n",
       "    .dataframe tbody tr th:only-of-type {\n",
       "        vertical-align: middle;\n",
       "    }\n",
       "\n",
       "    .dataframe tbody tr th {\n",
       "        vertical-align: top;\n",
       "    }\n",
       "\n",
       "    .dataframe thead th {\n",
       "        text-align: right;\n",
       "    }\n",
       "</style>\n",
       "<table border=\"1\" class=\"dataframe\">\n",
       "  <thead>\n",
       "    <tr style=\"text-align: right;\">\n",
       "      <th></th>\n",
       "      <th>SalePrice</th>\n",
       "      <th>SqFt1stFloor</th>\n",
       "      <th>SqFtHalfFloor</th>\n",
       "      <th>SqFt2ndFloor</th>\n",
       "      <th>SqFtUpperFloor</th>\n",
       "      <th>SqFtTotLiving</th>\n",
       "      <th>SqFtTotBasement</th>\n",
       "      <th>SqFtFinBasement</th>\n",
       "      <th>SqFtGarageBasement</th>\n",
       "      <th>SqFtGarageAttached</th>\n",
       "      <th>...</th>\n",
       "      <th>MonthSold_07</th>\n",
       "      <th>MonthSold_08</th>\n",
       "      <th>MonthSold_09</th>\n",
       "      <th>MonthSold_10</th>\n",
       "      <th>MonthSold_11</th>\n",
       "      <th>MonthSold_12</th>\n",
       "      <th>YearSold_2017</th>\n",
       "      <th>YearSold_2018</th>\n",
       "      <th>YearSold_2019</th>\n",
       "      <th>YearSold_2020</th>\n",
       "    </tr>\n",
       "  </thead>\n",
       "  <tbody>\n",
       "    <tr>\n",
       "      <th>0</th>\n",
       "      <td>400000</td>\n",
       "      <td>1590</td>\n",
       "      <td>0</td>\n",
       "      <td>0</td>\n",
       "      <td>0</td>\n",
       "      <td>3180</td>\n",
       "      <td>1590</td>\n",
       "      <td>1590</td>\n",
       "      <td>0</td>\n",
       "      <td>600</td>\n",
       "      <td>...</td>\n",
       "      <td>0</td>\n",
       "      <td>0</td>\n",
       "      <td>0</td>\n",
       "      <td>0</td>\n",
       "      <td>0</td>\n",
       "      <td>0</td>\n",
       "      <td>1</td>\n",
       "      <td>0</td>\n",
       "      <td>0</td>\n",
       "      <td>0</td>\n",
       "    </tr>\n",
       "    <tr>\n",
       "      <th>1</th>\n",
       "      <td>474250</td>\n",
       "      <td>1390</td>\n",
       "      <td>0</td>\n",
       "      <td>0</td>\n",
       "      <td>0</td>\n",
       "      <td>2200</td>\n",
       "      <td>810</td>\n",
       "      <td>810</td>\n",
       "      <td>0</td>\n",
       "      <td>0</td>\n",
       "      <td>...</td>\n",
       "      <td>0</td>\n",
       "      <td>0</td>\n",
       "      <td>0</td>\n",
       "      <td>0</td>\n",
       "      <td>0</td>\n",
       "      <td>0</td>\n",
       "      <td>0</td>\n",
       "      <td>1</td>\n",
       "      <td>0</td>\n",
       "      <td>0</td>\n",
       "    </tr>\n",
       "    <tr>\n",
       "      <th>2</th>\n",
       "      <td>667950</td>\n",
       "      <td>1010</td>\n",
       "      <td>0</td>\n",
       "      <td>1515</td>\n",
       "      <td>0</td>\n",
       "      <td>2525</td>\n",
       "      <td>0</td>\n",
       "      <td>0</td>\n",
       "      <td>0</td>\n",
       "      <td>400</td>\n",
       "      <td>...</td>\n",
       "      <td>0</td>\n",
       "      <td>0</td>\n",
       "      <td>0</td>\n",
       "      <td>0</td>\n",
       "      <td>0</td>\n",
       "      <td>0</td>\n",
       "      <td>0</td>\n",
       "      <td>0</td>\n",
       "      <td>1</td>\n",
       "      <td>0</td>\n",
       "    </tr>\n",
       "    <tr>\n",
       "      <th>3</th>\n",
       "      <td>659000</td>\n",
       "      <td>660</td>\n",
       "      <td>0</td>\n",
       "      <td>540</td>\n",
       "      <td>0</td>\n",
       "      <td>1820</td>\n",
       "      <td>620</td>\n",
       "      <td>620</td>\n",
       "      <td>0</td>\n",
       "      <td>0</td>\n",
       "      <td>...</td>\n",
       "      <td>0</td>\n",
       "      <td>0</td>\n",
       "      <td>1</td>\n",
       "      <td>0</td>\n",
       "      <td>0</td>\n",
       "      <td>0</td>\n",
       "      <td>1</td>\n",
       "      <td>0</td>\n",
       "      <td>0</td>\n",
       "      <td>0</td>\n",
       "    </tr>\n",
       "    <tr>\n",
       "      <th>4</th>\n",
       "      <td>656500</td>\n",
       "      <td>2310</td>\n",
       "      <td>0</td>\n",
       "      <td>0</td>\n",
       "      <td>0</td>\n",
       "      <td>2310</td>\n",
       "      <td>0</td>\n",
       "      <td>0</td>\n",
       "      <td>0</td>\n",
       "      <td>440</td>\n",
       "      <td>...</td>\n",
       "      <td>0</td>\n",
       "      <td>0</td>\n",
       "      <td>0</td>\n",
       "      <td>1</td>\n",
       "      <td>0</td>\n",
       "      <td>0</td>\n",
       "      <td>1</td>\n",
       "      <td>0</td>\n",
       "      <td>0</td>\n",
       "      <td>0</td>\n",
       "    </tr>\n",
       "  </tbody>\n",
       "</table>\n",
       "<p>5 rows × 171 columns</p>\n",
       "</div>"
      ],
      "text/plain": [
       "   SalePrice  SqFt1stFloor  SqFtHalfFloor  SqFt2ndFloor  SqFtUpperFloor  \\\n",
       "0     400000          1590              0             0               0   \n",
       "1     474250          1390              0             0               0   \n",
       "2     667950          1010              0          1515               0   \n",
       "3     659000           660              0           540               0   \n",
       "4     656500          2310              0             0               0   \n",
       "\n",
       "   SqFtTotLiving  SqFtTotBasement  SqFtFinBasement  SqFtGarageBasement  \\\n",
       "0           3180             1590             1590                   0   \n",
       "1           2200              810              810                   0   \n",
       "2           2525                0                0                   0   \n",
       "3           1820              620              620                   0   \n",
       "4           2310                0                0                   0   \n",
       "\n",
       "   SqFtGarageAttached  ...  MonthSold_07  MonthSold_08  MonthSold_09  \\\n",
       "0                 600  ...             0             0             0   \n",
       "1                   0  ...             0             0             0   \n",
       "2                 400  ...             0             0             0   \n",
       "3                   0  ...             0             0             1   \n",
       "4                 440  ...             0             0             0   \n",
       "\n",
       "   MonthSold_10  MonthSold_11  MonthSold_12  YearSold_2017  YearSold_2018  \\\n",
       "0             0             0             0              1              0   \n",
       "1             0             0             0              0              1   \n",
       "2             0             0             0              0              0   \n",
       "3             0             0             0              1              0   \n",
       "4             1             0             0              1              0   \n",
       "\n",
       "   YearSold_2019  YearSold_2020  \n",
       "0              0              0  \n",
       "1              0              0  \n",
       "2              1              0  \n",
       "3              0              0  \n",
       "4              0              0  \n",
       "\n",
       "[5 rows x 171 columns]"
      ]
     },
     "execution_count": 21,
     "metadata": {},
     "output_type": "execute_result"
    }
   ],
   "source": [
    "df1.head()"
   ]
  },
  {
   "cell_type": "markdown",
   "metadata": {
    "id": "L2tdJzB5cc1N"
   },
   "source": [
    "### Preprocessing stage**"
   ]
  },
  {
   "cell_type": "markdown",
   "metadata": {
    "id": "O64MMAtY6Rv5"
   },
   "source": [
    "**Assigning the target vector and independent variables**"
   ]
  },
  {
   "cell_type": "code",
   "execution_count": 22,
   "metadata": {
    "id": "QfUbXIVx37ya"
   },
   "outputs": [],
   "source": [
    "X =df1.drop(columns = [\"SalePrice\"])\n",
    "y = df1[\"SalePrice\"]\n",
    "X_train, X_test, y_train, y_test =train_test_split(X, y, random_state = 42)"
   ]
  },
  {
   "cell_type": "markdown",
   "metadata": {
    "id": "9aNH83vXG14K"
   },
   "source": [
    "**Instantiating Column Selector**"
   ]
  },
  {
   "cell_type": "code",
   "execution_count": 23,
   "metadata": {
    "id": "GbeajfQqG5Rb"
   },
   "outputs": [],
   "source": [
    "#The dataset contains numeric columns which needs to be scaled.\n",
    "num_cols = make_column_selector(dtype_include = \"number\")\n"
   ]
  },
  {
   "cell_type": "markdown",
   "metadata": {
    "id": "M9XKMuaOHQhQ"
   },
   "source": [
    "**Instantiating StandardScaler**"
   ]
  },
  {
   "cell_type": "code",
   "execution_count": 24,
   "metadata": {
    "id": "-8hKk3SNHAUc"
   },
   "outputs": [],
   "source": [
    "#scaler \n",
    "scaler =StandardScaler()"
   ]
  },
  {
   "cell_type": "markdown",
   "metadata": {
    "id": "6RUKtWLKHZsb"
   },
   "source": [
    "**Instantiating tuples to contain selected column**"
   ]
  },
  {
   "cell_type": "code",
   "execution_count": 25,
   "metadata": {
    "id": "x-3WKvwQC57b"
   },
   "outputs": [],
   "source": [
    "#Housing the scaler and the numeric columns in a tuple for further processing\n",
    "num_tuple =(scaler, num_cols)"
   ]
  },
  {
   "cell_type": "markdown",
   "metadata": {
    "id": "P8det4arIokY"
   },
   "source": [
    "**Instatiating transformer**"
   ]
  },
  {
   "cell_type": "code",
   "execution_count": 26,
   "metadata": {
    "colab": {
     "base_uri": "https://localhost:8080/",
     "height": 118
    },
    "id": "hmdujl-fIvIM",
    "outputId": "ea29d5d3-940d-4b0b-c595-efb7cc552ecf"
   },
   "outputs": [
    {
     "data": {
      "text/html": [
       "<style>#sk-a06680ae-6748-4869-975b-a1544e87ea9c {color: black;background-color: white;}#sk-a06680ae-6748-4869-975b-a1544e87ea9c pre{padding: 0;}#sk-a06680ae-6748-4869-975b-a1544e87ea9c div.sk-toggleable {background-color: white;}#sk-a06680ae-6748-4869-975b-a1544e87ea9c label.sk-toggleable__label {cursor: pointer;display: block;width: 100%;margin-bottom: 0;padding: 0.3em;box-sizing: border-box;text-align: center;}#sk-a06680ae-6748-4869-975b-a1544e87ea9c label.sk-toggleable__label-arrow:before {content: \"▸\";float: left;margin-right: 0.25em;color: #696969;}#sk-a06680ae-6748-4869-975b-a1544e87ea9c label.sk-toggleable__label-arrow:hover:before {color: black;}#sk-a06680ae-6748-4869-975b-a1544e87ea9c div.sk-estimator:hover label.sk-toggleable__label-arrow:before {color: black;}#sk-a06680ae-6748-4869-975b-a1544e87ea9c div.sk-toggleable__content {max-height: 0;max-width: 0;overflow: hidden;text-align: left;background-color: #f0f8ff;}#sk-a06680ae-6748-4869-975b-a1544e87ea9c div.sk-toggleable__content pre {margin: 0.2em;color: black;border-radius: 0.25em;background-color: #f0f8ff;}#sk-a06680ae-6748-4869-975b-a1544e87ea9c input.sk-toggleable__control:checked~div.sk-toggleable__content {max-height: 200px;max-width: 100%;overflow: auto;}#sk-a06680ae-6748-4869-975b-a1544e87ea9c input.sk-toggleable__control:checked~label.sk-toggleable__label-arrow:before {content: \"▾\";}#sk-a06680ae-6748-4869-975b-a1544e87ea9c div.sk-estimator input.sk-toggleable__control:checked~label.sk-toggleable__label {background-color: #d4ebff;}#sk-a06680ae-6748-4869-975b-a1544e87ea9c div.sk-label input.sk-toggleable__control:checked~label.sk-toggleable__label {background-color: #d4ebff;}#sk-a06680ae-6748-4869-975b-a1544e87ea9c input.sk-hidden--visually {border: 0;clip: rect(1px 1px 1px 1px);clip: rect(1px, 1px, 1px, 1px);height: 1px;margin: -1px;overflow: hidden;padding: 0;position: absolute;width: 1px;}#sk-a06680ae-6748-4869-975b-a1544e87ea9c div.sk-estimator {font-family: monospace;background-color: #f0f8ff;border: 1px dotted black;border-radius: 0.25em;box-sizing: border-box;margin-bottom: 0.5em;}#sk-a06680ae-6748-4869-975b-a1544e87ea9c div.sk-estimator:hover {background-color: #d4ebff;}#sk-a06680ae-6748-4869-975b-a1544e87ea9c div.sk-parallel-item::after {content: \"\";width: 100%;border-bottom: 1px solid gray;flex-grow: 1;}#sk-a06680ae-6748-4869-975b-a1544e87ea9c div.sk-label:hover label.sk-toggleable__label {background-color: #d4ebff;}#sk-a06680ae-6748-4869-975b-a1544e87ea9c div.sk-serial::before {content: \"\";position: absolute;border-left: 1px solid gray;box-sizing: border-box;top: 2em;bottom: 0;left: 50%;}#sk-a06680ae-6748-4869-975b-a1544e87ea9c div.sk-serial {display: flex;flex-direction: column;align-items: center;background-color: white;padding-right: 0.2em;padding-left: 0.2em;}#sk-a06680ae-6748-4869-975b-a1544e87ea9c div.sk-item {z-index: 1;}#sk-a06680ae-6748-4869-975b-a1544e87ea9c div.sk-parallel {display: flex;align-items: stretch;justify-content: center;background-color: white;}#sk-a06680ae-6748-4869-975b-a1544e87ea9c div.sk-parallel::before {content: \"\";position: absolute;border-left: 1px solid gray;box-sizing: border-box;top: 2em;bottom: 0;left: 50%;}#sk-a06680ae-6748-4869-975b-a1544e87ea9c div.sk-parallel-item {display: flex;flex-direction: column;position: relative;background-color: white;}#sk-a06680ae-6748-4869-975b-a1544e87ea9c div.sk-parallel-item:first-child::after {align-self: flex-end;width: 50%;}#sk-a06680ae-6748-4869-975b-a1544e87ea9c div.sk-parallel-item:last-child::after {align-self: flex-start;width: 50%;}#sk-a06680ae-6748-4869-975b-a1544e87ea9c div.sk-parallel-item:only-child::after {width: 0;}#sk-a06680ae-6748-4869-975b-a1544e87ea9c div.sk-dashed-wrapped {border: 1px dashed gray;margin: 0 0.4em 0.5em 0.4em;box-sizing: border-box;padding-bottom: 0.4em;background-color: white;position: relative;}#sk-a06680ae-6748-4869-975b-a1544e87ea9c div.sk-label label {font-family: monospace;font-weight: bold;background-color: white;display: inline-block;line-height: 1.2em;}#sk-a06680ae-6748-4869-975b-a1544e87ea9c div.sk-label-container {position: relative;z-index: 2;text-align: center;}#sk-a06680ae-6748-4869-975b-a1544e87ea9c div.sk-container {/* jupyter's `normalize.less` sets `[hidden] { display: none; }` but bootstrap.min.css set `[hidden] { display: none !important; }` so we also need the `!important` here to be able to override the default hidden behavior on the sphinx rendered scikit-learn.org. See: https://github.com/scikit-learn/scikit-learn/issues/21755 */display: inline-block !important;position: relative;}#sk-a06680ae-6748-4869-975b-a1544e87ea9c div.sk-text-repr-fallback {display: none;}</style><div id=\"sk-a06680ae-6748-4869-975b-a1544e87ea9c\" class=\"sk-top-container\"><div class=\"sk-text-repr-fallback\"><pre>ColumnTransformer(remainder=&#x27;passthrough&#x27;,\n",
       "                  transformers=[(&#x27;standardscaler&#x27;, StandardScaler(),\n",
       "                                 &lt;sklearn.compose._column_transformer.make_column_selector object at 0x0000018A277B8C88&gt;)])</pre><b>Please rerun this cell to show the HTML repr or trust the notebook.</b></div><div class=\"sk-container\" hidden><div class=\"sk-item sk-dashed-wrapped\"><div class=\"sk-label-container\"><div class=\"sk-label sk-toggleable\"><input class=\"sk-toggleable__control sk-hidden--visually\" id=\"9056f59d-6814-4d53-b61f-c544d64f1ae1\" type=\"checkbox\" ><label for=\"9056f59d-6814-4d53-b61f-c544d64f1ae1\" class=\"sk-toggleable__label sk-toggleable__label-arrow\">ColumnTransformer</label><div class=\"sk-toggleable__content\"><pre>ColumnTransformer(remainder=&#x27;passthrough&#x27;,\n",
       "                  transformers=[(&#x27;standardscaler&#x27;, StandardScaler(),\n",
       "                                 &lt;sklearn.compose._column_transformer.make_column_selector object at 0x0000018A277B8C88&gt;)])</pre></div></div></div><div class=\"sk-parallel\"><div class=\"sk-parallel-item\"><div class=\"sk-item\"><div class=\"sk-label-container\"><div class=\"sk-label sk-toggleable\"><input class=\"sk-toggleable__control sk-hidden--visually\" id=\"614d7adb-f6a8-44f7-8be9-89239821c20a\" type=\"checkbox\" ><label for=\"614d7adb-f6a8-44f7-8be9-89239821c20a\" class=\"sk-toggleable__label sk-toggleable__label-arrow\">standardscaler</label><div class=\"sk-toggleable__content\"><pre>&lt;sklearn.compose._column_transformer.make_column_selector object at 0x0000018A277B8C88&gt;</pre></div></div></div><div class=\"sk-serial\"><div class=\"sk-item\"><div class=\"sk-estimator sk-toggleable\"><input class=\"sk-toggleable__control sk-hidden--visually\" id=\"d98d16c6-f751-4dc5-8a2b-ea0fd3b517a9\" type=\"checkbox\" ><label for=\"d98d16c6-f751-4dc5-8a2b-ea0fd3b517a9\" class=\"sk-toggleable__label sk-toggleable__label-arrow\">StandardScaler</label><div class=\"sk-toggleable__content\"><pre>StandardScaler()</pre></div></div></div></div></div></div><div class=\"sk-parallel-item\"><div class=\"sk-item\"><div class=\"sk-label-container\"><div class=\"sk-label sk-toggleable\"><input class=\"sk-toggleable__control sk-hidden--visually\" id=\"d7b0f725-3bd4-4691-9c31-00ca9d3f1b3f\" type=\"checkbox\" ><label for=\"d7b0f725-3bd4-4691-9c31-00ca9d3f1b3f\" class=\"sk-toggleable__label sk-toggleable__label-arrow\">remainder</label><div class=\"sk-toggleable__content\"><pre></pre></div></div></div><div class=\"sk-serial\"><div class=\"sk-item\"><div class=\"sk-estimator sk-toggleable\"><input class=\"sk-toggleable__control sk-hidden--visually\" id=\"0879afb9-ee5b-4a2a-a83a-7c8140e19d44\" type=\"checkbox\" ><label for=\"0879afb9-ee5b-4a2a-a83a-7c8140e19d44\" class=\"sk-toggleable__label sk-toggleable__label-arrow\">passthrough</label><div class=\"sk-toggleable__content\"><pre>passthrough</pre></div></div></div></div></div></div></div></div></div></div>"
      ],
      "text/plain": [
       "ColumnTransformer(remainder='passthrough',\n",
       "                  transformers=[('standardscaler', StandardScaler(),\n",
       "                                 <sklearn.compose._column_transformer.make_column_selector object at 0x0000018A277B8C88>)])"
      ]
     },
     "execution_count": 26,
     "metadata": {},
     "output_type": "execute_result"
    }
   ],
   "source": [
    "#Initiating scaling of numeric columns\n",
    "Transformed = make_column_transformer(num_tuple, remainder =\"passthrough\")\n",
    "Transformed"
   ]
  },
  {
   "cell_type": "markdown",
   "metadata": {
    "id": "oiGipmVqJ99F"
   },
   "source": [
    "**Fitting transformer on X_train**"
   ]
  },
  {
   "cell_type": "code",
   "execution_count": 27,
   "metadata": {
    "id": "LZ9LM0xaKFAQ"
   },
   "outputs": [],
   "source": [
    "#Fitting on the train set and transforming both training and testing sets.\n",
    "X_train_transformed = Transformed.fit_transform(X_train)\n",
    "X_test_transformed = Transformed.transform(X_test)"
   ]
  },
  {
   "cell_type": "markdown",
   "metadata": {
    "id": "fSW-Je2M59pG"
   },
   "source": [
    "#**Application of PCA (Principal Component Analysis), for feature reduction**\n"
   ]
  },
  {
   "cell_type": "code",
   "execution_count": 28,
   "metadata": {
    "colab": {
     "base_uri": "https://localhost:8080/",
     "height": 74
    },
    "id": "CyDfgR2l6jxj",
    "outputId": "1ebd0fc6-fd57-4bd3-976b-5bb01ee3debf"
   },
   "outputs": [
    {
     "data": {
      "text/html": [
       "<style>#sk-f2d9e0f7-879f-4ed9-b045-c448471c05f2 {color: black;background-color: white;}#sk-f2d9e0f7-879f-4ed9-b045-c448471c05f2 pre{padding: 0;}#sk-f2d9e0f7-879f-4ed9-b045-c448471c05f2 div.sk-toggleable {background-color: white;}#sk-f2d9e0f7-879f-4ed9-b045-c448471c05f2 label.sk-toggleable__label {cursor: pointer;display: block;width: 100%;margin-bottom: 0;padding: 0.3em;box-sizing: border-box;text-align: center;}#sk-f2d9e0f7-879f-4ed9-b045-c448471c05f2 label.sk-toggleable__label-arrow:before {content: \"▸\";float: left;margin-right: 0.25em;color: #696969;}#sk-f2d9e0f7-879f-4ed9-b045-c448471c05f2 label.sk-toggleable__label-arrow:hover:before {color: black;}#sk-f2d9e0f7-879f-4ed9-b045-c448471c05f2 div.sk-estimator:hover label.sk-toggleable__label-arrow:before {color: black;}#sk-f2d9e0f7-879f-4ed9-b045-c448471c05f2 div.sk-toggleable__content {max-height: 0;max-width: 0;overflow: hidden;text-align: left;background-color: #f0f8ff;}#sk-f2d9e0f7-879f-4ed9-b045-c448471c05f2 div.sk-toggleable__content pre {margin: 0.2em;color: black;border-radius: 0.25em;background-color: #f0f8ff;}#sk-f2d9e0f7-879f-4ed9-b045-c448471c05f2 input.sk-toggleable__control:checked~div.sk-toggleable__content {max-height: 200px;max-width: 100%;overflow: auto;}#sk-f2d9e0f7-879f-4ed9-b045-c448471c05f2 input.sk-toggleable__control:checked~label.sk-toggleable__label-arrow:before {content: \"▾\";}#sk-f2d9e0f7-879f-4ed9-b045-c448471c05f2 div.sk-estimator input.sk-toggleable__control:checked~label.sk-toggleable__label {background-color: #d4ebff;}#sk-f2d9e0f7-879f-4ed9-b045-c448471c05f2 div.sk-label input.sk-toggleable__control:checked~label.sk-toggleable__label {background-color: #d4ebff;}#sk-f2d9e0f7-879f-4ed9-b045-c448471c05f2 input.sk-hidden--visually {border: 0;clip: rect(1px 1px 1px 1px);clip: rect(1px, 1px, 1px, 1px);height: 1px;margin: -1px;overflow: hidden;padding: 0;position: absolute;width: 1px;}#sk-f2d9e0f7-879f-4ed9-b045-c448471c05f2 div.sk-estimator {font-family: monospace;background-color: #f0f8ff;border: 1px dotted black;border-radius: 0.25em;box-sizing: border-box;margin-bottom: 0.5em;}#sk-f2d9e0f7-879f-4ed9-b045-c448471c05f2 div.sk-estimator:hover {background-color: #d4ebff;}#sk-f2d9e0f7-879f-4ed9-b045-c448471c05f2 div.sk-parallel-item::after {content: \"\";width: 100%;border-bottom: 1px solid gray;flex-grow: 1;}#sk-f2d9e0f7-879f-4ed9-b045-c448471c05f2 div.sk-label:hover label.sk-toggleable__label {background-color: #d4ebff;}#sk-f2d9e0f7-879f-4ed9-b045-c448471c05f2 div.sk-serial::before {content: \"\";position: absolute;border-left: 1px solid gray;box-sizing: border-box;top: 2em;bottom: 0;left: 50%;}#sk-f2d9e0f7-879f-4ed9-b045-c448471c05f2 div.sk-serial {display: flex;flex-direction: column;align-items: center;background-color: white;padding-right: 0.2em;padding-left: 0.2em;}#sk-f2d9e0f7-879f-4ed9-b045-c448471c05f2 div.sk-item {z-index: 1;}#sk-f2d9e0f7-879f-4ed9-b045-c448471c05f2 div.sk-parallel {display: flex;align-items: stretch;justify-content: center;background-color: white;}#sk-f2d9e0f7-879f-4ed9-b045-c448471c05f2 div.sk-parallel::before {content: \"\";position: absolute;border-left: 1px solid gray;box-sizing: border-box;top: 2em;bottom: 0;left: 50%;}#sk-f2d9e0f7-879f-4ed9-b045-c448471c05f2 div.sk-parallel-item {display: flex;flex-direction: column;position: relative;background-color: white;}#sk-f2d9e0f7-879f-4ed9-b045-c448471c05f2 div.sk-parallel-item:first-child::after {align-self: flex-end;width: 50%;}#sk-f2d9e0f7-879f-4ed9-b045-c448471c05f2 div.sk-parallel-item:last-child::after {align-self: flex-start;width: 50%;}#sk-f2d9e0f7-879f-4ed9-b045-c448471c05f2 div.sk-parallel-item:only-child::after {width: 0;}#sk-f2d9e0f7-879f-4ed9-b045-c448471c05f2 div.sk-dashed-wrapped {border: 1px dashed gray;margin: 0 0.4em 0.5em 0.4em;box-sizing: border-box;padding-bottom: 0.4em;background-color: white;position: relative;}#sk-f2d9e0f7-879f-4ed9-b045-c448471c05f2 div.sk-label label {font-family: monospace;font-weight: bold;background-color: white;display: inline-block;line-height: 1.2em;}#sk-f2d9e0f7-879f-4ed9-b045-c448471c05f2 div.sk-label-container {position: relative;z-index: 2;text-align: center;}#sk-f2d9e0f7-879f-4ed9-b045-c448471c05f2 div.sk-container {/* jupyter's `normalize.less` sets `[hidden] { display: none; }` but bootstrap.min.css set `[hidden] { display: none !important; }` so we also need the `!important` here to be able to override the default hidden behavior on the sphinx rendered scikit-learn.org. See: https://github.com/scikit-learn/scikit-learn/issues/21755 */display: inline-block !important;position: relative;}#sk-f2d9e0f7-879f-4ed9-b045-c448471c05f2 div.sk-text-repr-fallback {display: none;}</style><div id=\"sk-f2d9e0f7-879f-4ed9-b045-c448471c05f2\" class=\"sk-top-container\"><div class=\"sk-text-repr-fallback\"><pre>PCA()</pre><b>Please rerun this cell to show the HTML repr or trust the notebook.</b></div><div class=\"sk-container\" hidden><div class=\"sk-item\"><div class=\"sk-estimator sk-toggleable\"><input class=\"sk-toggleable__control sk-hidden--visually\" id=\"147a7fe1-f158-47af-8cac-816ef5723bed\" type=\"checkbox\" checked><label for=\"147a7fe1-f158-47af-8cac-816ef5723bed\" class=\"sk-toggleable__label sk-toggleable__label-arrow\">PCA</label><div class=\"sk-toggleable__content\"><pre>PCA()</pre></div></div></div></div></div>"
      ],
      "text/plain": [
       "PCA()"
      ]
     },
     "execution_count": 28,
     "metadata": {},
     "output_type": "execute_result"
    }
   ],
   "source": [
    "#Instantiating PCA\n",
    "pca = PCA()\n",
    "pca.fit(X_train_transformed)"
   ]
  },
  {
   "cell_type": "markdown",
   "metadata": {
    "id": "SqlIOi5B7feo"
   },
   "source": [
    "**Visualizing the proportion of explained variance**"
   ]
  },
  {
   "cell_type": "code",
   "execution_count": 29,
   "metadata": {
    "colab": {
     "base_uri": "https://localhost:8080/",
     "height": 339
    },
    "id": "TAz4gT-270qa",
    "outputId": "b5d2c600-829f-4142-ddbe-2e25465feed8"
   },
   "outputs": [
    {
     "data": {
      "image/png": "[encoded data removed]",
      "text/plain": [
       "<Figure size 864x360 with 1 Axes>"
      ]
     },
     "metadata": {},
     "output_type": "display_data"
    }
   ],
   "source": [
    "plt.plot(range(1,24), pca.explained_variance_ratio_[:23], marker = \"o\")\n",
    "plt.xlabel(\"PCA\")\n",
    "plt.ylabel(\"Proportion of explained variance\")\n",
    "plt.xticks(ticks = range(1,24));"
   ]
  },
  {
   "cell_type": "markdown",
   "metadata": {
    "id": "unPsoIHBiv7u"
   },
   "source": [
    "From the above graph, we can clearly see that the deep slope of the curve lies on the number 4. That is where the slope makes a significant drop, and therefore I will use 4 as the n_components."
   ]
  },
  {
   "cell_type": "markdown",
   "metadata": {
    "id": "edbCwG5ai6Fk"
   },
   "source": [
    "**Applying the appropraite number of components derived from graph**"
   ]
  },
  {
   "cell_type": "markdown",
   "metadata": {
    "id": "2tO8uGbS8k6q"
   },
   "source": [
    "Instantiating PCA with n_component =4"
   ]
  },
  {
   "cell_type": "code",
   "execution_count": 78,
   "metadata": {
    "id": "nN1QnYAY8rzB"
   },
   "outputs": [],
   "source": [
    "pca1 =PCA (n_components =.85)\n",
    "X_train_pca = pca1.fit_transform(X_train_transformed )\n",
    "X_test_pca = pca1.transform(X_test_transformed )"
   ]
  },
  {
   "cell_type": "markdown",
   "metadata": {
    "id": "7MhY3eqT649o"
   },
   "source": [
    "**Differences between the original X_train set and the PCA processed X_train set**"
   ]
  },
  {
   "cell_type": "code",
   "execution_count": 79,
   "metadata": {
    "colab": {
     "base_uri": "https://localhost:8080/"
    },
    "id": "kfJQwwCg69mt",
    "outputId": "fb7b3a00-7839-4ec5-a6b7-dfd0b9b878ea"
   },
   "outputs": [
    {
     "name": "stdout",
     "output_type": "stream",
     "text": [
      "There are 53 less features after the application of pca\n"
     ]
    }
   ],
   "source": [
    "#Subtracting the shape of pca processed X train from the shape of the original X train to get the difference.\n",
    "differences = X_train.shape[1] - X_train_pca.shape[1]\n",
    "print(f'There are {differences} less features after the application of pca')\n"
   ]
  },
  {
   "cell_type": "markdown",
   "metadata": {
    "id": "OHYH3fNDQaCP"
   },
   "source": [
    "**Variance retained after the application of PCA**"
   ]
  },
  {
   "cell_type": "code",
   "execution_count": 80,
   "metadata": {
    "colab": {
     "base_uri": "https://localhost:8080/"
    },
    "id": "ZYSK3HlSjwvy",
    "outputId": "bb64ec4a-1ba8-4f33-8bd4-7e717224e6ad"
   },
   "outputs": [
    {
     "name": "stdout",
     "output_type": "stream",
     "text": [
      "pca explained 0.9% of the variance from the original data\n"
     ]
    }
   ],
   "source": [
    "variance = pca1.explained_variance_ratio_.sum()\n",
    "print(f'pca explained {variance:.1f}% of the variance from the original data')"
   ]
  },
  {
   "cell_type": "markdown",
   "metadata": {
    "id": "AQp7_KwfcjI7"
   },
   "source": [
    "\n",
    "\n",
    "## Neural Network Model"
   ]
  },
  {
   "cell_type": "markdown",
   "metadata": {
    "id": "YtLZyua4xDwR"
   },
   "source": [
    "**Defining functions to be used in building the model**"
   ]
  },
  {
   "cell_type": "code",
   "execution_count": 81,
   "metadata": {
    "id": "vVAZrXANuW5y"
   },
   "outputs": [],
   "source": [
    "#Function to plot graph for visualising the history of model performance\n",
    "def hist_plot (history, metrics = None):\n",
    "\n",
    "  fig, axes =plt.subplots(2,1, figsize = (5,10))\n",
    "  axes[0].plot(history.history['loss'], label = \"train\")\n",
    "  axes[0].plot(history.history['val_loss'], label = \"test\")\n",
    "  axes[0].set_title(\"loss\")\n",
    "  axes[0].legend()\n",
    "\n",
    "  if metrics:\n",
    "     axes[1].plot(history.history[metrics], label = \"train\")\n",
    "     axes[1].plot(history.history['val_'+metrics], label = \"test\")\n",
    "     axes[1].set_title(metrics)\n",
    "     axes[1].legend()\n",
    "\n",
    "  plt.show()\n",
    "\n",
    "\n",
    "\n",
    "\n",
    "#Function to format numbers by inserting commas.\n",
    "def comma(number):\n",
    "    return (\"{:,}\"). format(number)\n",
    "\n",
    "\n",
    "\n",
    "#Displaying the training progress by printing a single - for each completed epoch\n",
    "class PrintDot(keras.callbacks.Callback):\n",
    "  def on_epoch_end(self, epochs, logs):\n",
    "   if epochs %100 ==0: print(\" \")\n",
    "   print(\".\", end =\" \")\n"
   ]
  },
  {
   "cell_type": "markdown",
   "metadata": {
    "id": "35jAG-hExOTx"
   },
   "source": [
    "## Building of Model"
   ]
  },
  {
   "cell_type": "code",
   "execution_count": 82,
   "metadata": {
    "id": "5Co5zMtndhzI"
   },
   "outputs": [],
   "source": [
    "input_shape = X_train_pca.shape[1]"
   ]
  },
  {
   "cell_type": "markdown",
   "metadata": {
    "id": "uPRihtqEm0PJ"
   },
   "source": [
    "### Base Model"
   ]
  },
  {
   "cell_type": "markdown",
   "metadata": {
    "id": "nQBD6-jH-tPk"
   },
   "source": [
    "**Instantiating Model**"
   ]
  },
  {
   "cell_type": "markdown",
   "metadata": {
    "id": "aiwfWeOc-73T"
   },
   "source": [
    "For optimized model performance, I have decided to build my initial model with an input layer, 1 hidden layer and 1 output layer as this is a regression model. It will also contain an \"adam\" optimizer, and \"mse\" as the evaluation metric."
   ]
  },
  {
   "cell_type": "code",
   "execution_count": 83,
   "metadata": {
    "id": "qgGOj_WAc5V7"
   },
   "outputs": [],
   "source": [
    "Reg_model = Sequential(name = \"Regression_NN\")\n",
    "\n",
    "Reg_model.add(Dense(64, activation = \"relu\", input_dim = input_shape))   \n",
    "Reg_model.add(Dense(64, activation = \"relu\"))\n",
    "Reg_model.add(Dense(1))        \n",
    "\n",
    "Reg_model.compile(loss =\"mse\", optimizer = 'adam', metrics= [\"mse\", \"mae\"])  "
   ]
  },
  {
   "cell_type": "markdown",
   "metadata": {
    "id": "TCuwpYRm-z0m"
   },
   "source": [
    "**Summary of model**"
   ]
  },
  {
   "cell_type": "code",
   "execution_count": 84,
   "metadata": {
    "colab": {
     "base_uri": "https://localhost:8080/"
    },
    "id": "38jznvoufEAJ",
    "outputId": "bd993165-e4ea-4e54-acee-c4fea86a3151"
   },
   "outputs": [
    {
     "name": "stdout",
     "output_type": "stream",
     "text": [
      "Model: \"Regression_NN\"\n",
      "_________________________________________________________________\n",
      " Layer (type)                Output Shape              Param #   \n",
      "=================================================================\n",
      " dense_18 (Dense)            (None, 64)                7552      \n",
      "                                                                 \n",
      " dense_19 (Dense)            (None, 64)                4160      \n",
      "                                                                 \n",
      " dense_20 (Dense)            (None, 1)                 65        \n",
      "                                                                 \n",
      "=================================================================\n",
      "Total params: 11,777\n",
      "Trainable params: 11,777\n",
      "Non-trainable params: 0\n",
      "_________________________________________________________________\n"
     ]
    }
   ],
   "source": [
    "Reg_model.summary()"
   ]
  },
  {
   "cell_type": "markdown",
   "metadata": {
    "id": "980SWbO6fPHG"
   },
   "source": [
    "**Model Inspection**"
   ]
  },
  {
   "cell_type": "code",
   "execution_count": 85,
   "metadata": {
    "colab": {
     "base_uri": "https://localhost:8080/"
    },
    "id": "PrXY6riifV9h",
    "outputId": "011f73ef-874d-41bc-e3cc-c1ebf40875a1"
   },
   "outputs": [
    {
     "data": {
      "text/plain": [
       "array([[ 0.12871742],\n",
       "       [ 0.23927528],\n",
       "       [-0.38262513],\n",
       "       [-0.62464607],\n",
       "       [-0.4945745 ],\n",
       "       [ 0.26531234],\n",
       "       [-0.63943005],\n",
       "       [ 0.07285941],\n",
       "       [-0.5281614 ],\n",
       "       [-1.680601  ]], dtype=float32)"
      ]
     },
     "execution_count": 85,
     "metadata": {},
     "output_type": "execute_result"
    }
   ],
   "source": [
    "#Trying out the model on a batch of 10 examples from the trainind data and calling .predict on it.\n",
    "exp_batch = X_train_pca[:10]\n",
    "exp_result= Reg_model.predict(exp_batch)\n",
    "exp_result"
   ]
  },
  {
   "cell_type": "markdown",
   "metadata": {
    "id": "xXO3ebpHhAqv"
   },
   "source": [
    "The model seems to be working and it produces a result of the expected shape and type."
   ]
  },
  {
   "cell_type": "markdown",
   "metadata": {
    "id": "EEHoJGv8KGKP"
   },
   "source": [
    "**Training and fitting model on training set**"
   ]
  },
  {
   "cell_type": "code",
   "execution_count": 86,
   "metadata": {
    "colab": {
     "base_uri": "https://localhost:8080/"
    },
    "id": "kmJgzXkeJrzk",
    "outputId": "3009b62f-97a8-4665-fff3-654a81e3cd9f"
   },
   "outputs": [
    {
     "name": "stdout",
     "output_type": "stream",
     "text": [
      " \n",
      ". . . . . . . . . . . . . . . . . . . . . . . . . . . . . . . . . . . . . . . . . . . . . . . . . . "
     ]
    }
   ],
   "source": [
    "#Training the model on a starting point of 50 epochs and recording the validation scores in the history object\n",
    "history = Reg_model.fit(X_train_pca, y_train, validation_data = (X_test_pca, y_test), epochs = 50,verbose = 0 ,callbacks = [PrintDot()])"
   ]
  },
  {
   "cell_type": "markdown",
   "metadata": {
    "id": "izMIPuFrKQRI"
   },
   "source": [
    "**Visualizing model performance on test set and train set.**"
   ]
  },
  {
   "cell_type": "code",
   "execution_count": 87,
   "metadata": {
    "colab": {
     "base_uri": "https://localhost:8080/",
     "height": 610
    },
    "id": "O5Ig__LMPfLn",
    "outputId": "e502c04e-0d1d-412c-a5de-0eaef170a8ed"
   },
   "outputs": [
    {
     "data": {
      "image/png": "[encoded data removed]",
      "text/plain": [
       "<Figure size 360x720 with 2 Axes>"
      ]
     },
     "metadata": {},
     "output_type": "display_data"
    }
   ],
   "source": [
    "hist_plot(history, metrics =\"mse\")"
   ]
  },
  {
   "cell_type": "markdown",
   "metadata": {
    "id": "eN8bMsZpHfsN"
   },
   "source": [
    "**Predictions**"
   ]
  },
  {
   "cell_type": "code",
   "execution_count": 88,
   "metadata": {
    "id": "5w8E8y3THfsO"
   },
   "outputs": [],
   "source": [
    "#making predictions on testing set\n",
    "Train_preds =np.rint(Reg_model.predict(X_train_pca))\n",
    "Test_preds = np.rint(Reg_model.predict(X_test_pca))"
   ]
  },
  {
   "cell_type": "markdown",
   "metadata": {
    "id": "G19UB1yeHfsO"
   },
   "source": [
    "**Evaluating Model Performnace**"
   ]
  },
  {
   "cell_type": "code",
   "execution_count": 89,
   "metadata": {
    "colab": {
     "base_uri": "https://localhost:8080/"
    },
    "id": "9lUfF9rdgeJT",
    "outputId": "4a9829bd-2fb6-4e0f-aa2e-4f207a85efef"
   },
   "outputs": [
    {
     "name": "stdout",
     "output_type": "stream",
     "text": [
      "39/39 [==============================] - 0s 2ms/step - loss: 49674371072.0000 - mse: 49674371072.0000 - mae: 162459.7969\n"
     ]
    },
    {
     "data": {
      "text/plain": [
       "[49674371072.0, 49674371072.0, 162459.796875]"
      ]
     },
     "execution_count": 89,
     "metadata": {},
     "output_type": "execute_result"
    }
   ],
   "source": [
    "test_loss = Reg_model.evaluate(X_test_pca, y_test)\n",
    "test_loss"
   ]
  },
  {
   "cell_type": "code",
   "execution_count": 90,
   "metadata": {
    "colab": {
     "base_uri": "https://localhost:8080/"
    },
    "id": "mZKAjgsBHfsO",
    "outputId": "9a061e2c-60b6-460e-a191-425940fcefd0"
   },
   "outputs": [
    {
     "name": "stdout",
     "output_type": "stream",
     "text": [
      "Train set (MSE) evaluation score:\n",
      "mse: Train set: 38,167,830,549.55402          Test set:  49,674,363,668.51336\n",
      "\n",
      "Test set (MAE) evaluation score:\n",
      "mae:  Train set: 143,060.23149648838           Test set:  162,459.7991902834\n"
     ]
    }
   ],
   "source": [
    "mse_train = mean_squared_error(y_train, Train_preds)\n",
    "mse_test =mean_squared_error(y_test, Test_preds)\n",
    "\n",
    "mae_train = mean_absolute_error(y_train, Train_preds)\n",
    "mae_test = mean_absolute_error(y_test, Test_preds)\n",
    "\n",
    "print(f'Train set (MSE) evaluation score:\\nmse: Train set: {comma(mse_train)}          Test set:  {comma(mse_test)}\\n')\n",
    "print(f'Test set (MAE) evaluation score:\\nmae:  Train set: {comma(mae_train)}           Test set:  {comma(mae_test)}')\n"
   ]
  },
  {
   "cell_type": "markdown",
   "metadata": {
    "id": "rtIq8PLDEBQu"
   },
   "source": [
    "**Conclusion Base Model**\n",
    "\n",
    "The model performed relatively well, but I will still go ahead and tune it to see if it can perform even better. I will begin by adding a dropout layer and increasing the number of epoch to 100, to see how well it will improve."
   ]
  },
  {
   "cell_type": "markdown",
   "metadata": {
    "id": "48sGtGpCm8wL"
   },
   "source": [
    "### Second version of Model"
   ]
  },
  {
   "cell_type": "markdown",
   "metadata": {
    "id": "_YV4zap0qoib"
   },
   "source": [
    "**Applying dropout layer and inceasing epoch to 100**"
   ]
  },
  {
   "cell_type": "code",
   "execution_count": 91,
   "metadata": {
    "id": "c8n1zqXLrADT"
   },
   "outputs": [],
   "source": [
    "#Adding dropout layers to the first and second layers.\n",
    "Reg_model1 = Sequential(name = \"Regression_NN\")\n",
    "\n",
    "Reg_model1.add(Dense(64, activation = \"relu\", input_dim = input_shape))  \n",
    "Reg_model1.add(Dropout(.3))\n",
    "Reg_model1.add(Dense(64, activation = \"relu\"))\n",
    "Reg_model1.add(Dropout(.3))\n",
    "Reg_model1.add(Dense(1))\n",
    "\n",
    "Reg_model1.compile(loss =\"mse\", optimizer = 'adam', metrics= \"mse\")"
   ]
  },
  {
   "cell_type": "markdown",
   "metadata": {
    "id": "l1jQ2hQ5IYbX"
   },
   "source": [
    "**Training and fitting model on training set**"
   ]
  },
  {
   "cell_type": "code",
   "execution_count": 92,
   "metadata": {
    "colab": {
     "base_uri": "https://localhost:8080/"
    },
    "id": "FIPyWW1IsRR6",
    "outputId": "723b0599-e593-4777-86fc-91f985b5f794"
   },
   "outputs": [
    {
     "name": "stdout",
     "output_type": "stream",
     "text": [
      " \n",
      ". . . . . . . . . . . . . . . . . . . . . . . . . . . . . . . . . . . . . . . . . . . . . . . . . . . . . . . . . . . . . . . . . . . . . . . . . . . . . . . . . . . . . . . . . . . . . . . . . . . . "
     ]
    }
   ],
   "source": [
    "#Training the model on 100 epochs and recording the validation scores in the history object\n",
    "history1 = Reg_model1.fit(X_test_pca, y_test,  epochs = 100,  validation_data = (X_test_pca, y_test), verbose =0, callbacks = [PrintDot()])\n"
   ]
  },
  {
   "cell_type": "markdown",
   "metadata": {
    "id": "bv3mTWs6FJJG"
   },
   "source": [
    "**Visualizing model performance on test set and train set.**"
   ]
  },
  {
   "cell_type": "code",
   "execution_count": 93,
   "metadata": {
    "colab": {
     "base_uri": "https://localhost:8080/",
     "height": 610
    },
    "id": "bFl9FSdVH5Gf",
    "outputId": "cadf5ff7-f999-4b1c-a484-17c575f54d40"
   },
   "outputs": [
    {
     "data": {
      "image/png": "[encoded data removed]",
      "text/plain": [
       "<Figure size 360x720 with 2 Axes>"
      ]
     },
     "metadata": {},
     "output_type": "display_data"
    }
   ],
   "source": [
    "hist_plot(history1, metrics =\"mse\" )"
   ]
  },
  {
   "cell_type": "markdown",
   "metadata": {
    "id": "PQR8liJOHRps"
   },
   "source": [
    "**Predictions**"
   ]
  },
  {
   "cell_type": "code",
   "execution_count": 94,
   "metadata": {
    "id": "4vcuGx1PHRps"
   },
   "outputs": [],
   "source": [
    "#making predictions on testing set\n",
    "Train_preds1 =np.rint(Reg_model1.predict(X_train_pca))\n",
    "Test_preds1 = np.rint(Reg_model1.predict(X_test_pca))"
   ]
  },
  {
   "cell_type": "markdown",
   "metadata": {
    "id": "iuvAOSWSEwCl"
   },
   "source": [
    "**Evaluating model performance**"
   ]
  },
  {
   "cell_type": "code",
   "execution_count": 95,
   "metadata": {
    "colab": {
     "base_uri": "https://localhost:8080/"
    },
    "id": "kJ3Mz1YJHRps",
    "outputId": "0045547f-26ea-44a5-dad0-20097d1b98ac"
   },
   "outputs": [
    {
     "name": "stdout",
     "output_type": "stream",
     "text": [
      "Train set (MSE) evaluation score:\n",
      "mse: Train set: 121,459,981,895.7893          Test set:  85,889,038,523.44777\n",
      "\n",
      "Test set (MAE) evaluation score:\n",
      "mae:  Train set: 282,654.7568881686           Test set:  233,947.56599190284\n"
     ]
    }
   ],
   "source": [
    "mse_train1 = mean_squared_error(y_train, Train_preds1)\n",
    "mse_test1 =mean_squared_error(y_test, Test_preds1)\n",
    "\n",
    "mae_train1 = mean_absolute_error(y_train, Train_preds1)\n",
    "mae_test1 = mean_absolute_error(y_test, Test_preds1)\n",
    "\n",
    "print(f'Train set (MSE) evaluation score:\\nmse: Train set: {comma(mse_train1)}          Test set:  {comma(mse_test1)}\\n')\n",
    "print(f'Test set (MAE) evaluation score:\\nmae:  Train set: {comma(mae_train1)}           Test set:  {comma(mae_test1)}')\n"
   ]
  },
  {
   "cell_type": "markdown",
   "metadata": {
    "id": "mxtThKufGQMl"
   },
   "source": [
    "The above graph shows that the model has **not** improved upon the adding of a dropout layer and increasing the epoch to 100, from 50. The mse and mae score has significantly increased which is not a good sign, so I will go ahead and tune it further by applying an early stopping callback.. "
   ]
  },
  {
   "cell_type": "markdown",
   "metadata": {
    "id": "2wb__0aNnCxc"
   },
   "source": [
    "### Third version of Model"
   ]
  },
  {
   "cell_type": "markdown",
   "metadata": {
    "id": "Yv_ylvRbkRgC"
   },
   "source": [
    "**Applying early stopping**"
   ]
  },
  {
   "cell_type": "code",
   "execution_count": 96,
   "metadata": {
    "id": "hgHSePOeJqx_"
   },
   "outputs": [],
   "source": [
    "early_stop = EarlyStopping(monitor = \"val_loss\", patience = 10)\n",
    "Reg_model2 = Sequential(name = \"Regression_NN\")\n",
    "\n",
    "Reg_model2.add(Dense(64, activation = \"relu\", input_dim = input_shape))  \n",
    "Reg_model2.add(Dense(64, activation = \"relu\"))\n",
    "Reg_model2.add(Dense(1))\n",
    "\n",
    "Reg_model2.compile(loss =\"mse\", optimizer = 'adam', metrics= \"mse\")"
   ]
  },
  {
   "cell_type": "markdown",
   "metadata": {
    "id": "DHoEDf2dF9sL"
   },
   "source": [
    "**Training and fitting model on training set**"
   ]
  },
  {
   "cell_type": "code",
   "execution_count": 97,
   "metadata": {
    "colab": {
     "base_uri": "https://localhost:8080/"
    },
    "id": "CyzIuBUTe_ec",
    "outputId": "84c91fce-db33-492e-d44d-fb02347f28de"
   },
   "outputs": [
    {
     "name": "stdout",
     "output_type": "stream",
     "text": [
      " \n",
      ". . . . . . . . . . . . . . . . . . . . . . . . . . . . . . . . . . . . . . . . . . . . . . . . . . . . . . . . . . . . . . . . . . . . . . . . . . . . . . . . . . . . . . . . . . . . . . . . . . . . "
     ]
    }
   ],
   "source": [
    "#Training the model on 100 epochs, a callback = earlystopping and recording the validation scores in the history object\n",
    "history2 = Reg_model2.fit(X_train_pca, y_train, validation_data = (X_test_pca, y_test), epochs = 100,verbose = 0 ,callbacks = [early_stop, PrintDot()])"
   ]
  },
  {
   "cell_type": "markdown",
   "metadata": {
    "id": "BFcDbTm3Fn7D"
   },
   "source": [
    "**Visualizing model performance on test set and train set.**"
   ]
  },
  {
   "cell_type": "code",
   "execution_count": 98,
   "metadata": {
    "colab": {
     "base_uri": "https://localhost:8080/",
     "height": 610
    },
    "id": "raMEaA5MFvgt",
    "outputId": "926efe50-35db-440b-f791-351fab09e748"
   },
   "outputs": [
    {
     "data": {
      "image/png": "[encoded data removed]",
      "text/plain": [
       "<Figure size 360x720 with 2 Axes>"
      ]
     },
     "metadata": {},
     "output_type": "display_data"
    }
   ],
   "source": [
    "hist_plot(history2, metrics =\"mse\")"
   ]
  },
  {
   "cell_type": "markdown",
   "metadata": {
    "id": "wsdmSgTaLpin"
   },
   "source": [
    "**Predictions**"
   ]
  },
  {
   "cell_type": "code",
   "execution_count": 99,
   "metadata": {
    "id": "UCxpg4OKL1j9"
   },
   "outputs": [],
   "source": [
    "#making predictions on testing set\n",
    "Train_preds2 =np.rint(Reg_model2.predict(X_train_pca))\n",
    "Test_preds2 = np.rint(Reg_model2.predict(X_test_pca))"
   ]
  },
  {
   "cell_type": "markdown",
   "metadata": {
    "id": "vlKysyZ1LsmP"
   },
   "source": [
    "**Evaluation of Model Performance**"
   ]
  },
  {
   "cell_type": "code",
   "execution_count": 100,
   "metadata": {
    "colab": {
     "base_uri": "https://localhost:8080/"
    },
    "id": "13djLCDSMH1t",
    "outputId": "27614cc9-cde0-4143-fc2c-ff455093156a"
   },
   "outputs": [
    {
     "name": "stdout",
     "output_type": "stream",
     "text": [
      "Train set (MSE) evaluation score:\n",
      "mse: Train set: 27,750,124,177.80551          Test set:  40,388,917,635.1417\n",
      "\n",
      "Test set (MAE) evaluation score:\n",
      "mae:  Train set: 116,846.67963263101           Test set:  140,041.08340080973\n"
     ]
    }
   ],
   "source": [
    "mse_train2 = mean_squared_error(y_train, Train_preds2)\n",
    "mse_test2 =mean_squared_error(y_test, Test_preds2)\n",
    "\n",
    "mae_train2 = mean_absolute_error(y_train, Train_preds2)\n",
    "mae_test2 = mean_absolute_error(y_test, Test_preds2)\n",
    "\n",
    "print(f'Train set (MSE) evaluation score:\\nmse: Train set: {comma(mse_train2)}          Test set:  {comma(mse_test2)}\\n')\n",
    "print(f'Test set (MAE) evaluation score:\\nmae:  Train set: {comma(mae_train2)}           Test set:  {comma(mae_test2)}')\n"
   ]
  },
  {
   "cell_type": "markdown",
   "metadata": {
    "id": "AgToER-9OEqD"
   },
   "source": [
    "**Conclusion on third version of the model**\n",
    "\n",
    "The curve from the graph seems perfect. The performance of both the training and the testing set is very good. The mse score and the mae score of both test and train set is considerably lower than the other two version of the model."
   ]
  },
  {
   "cell_type": "markdown",
   "metadata": {
    "id": "O31k9-PUMkWq"
   },
   "source": [
    "## Final Conclusion\n",
    "\n",
    "**Upon carefull consideration on the performance of model on test and train set , as well as the mse and mae score, I will go with the third version of model, which from the graph, did well on both train and test set and had a low mse and mae score than all the other versions. With a high prediction accuary and low mae and mse, the model will surely predict the accurate sales price for the company.**\n",
    "\n"
   ]
  }
 ],
 "metadata": {
  "colab": {
   "collapsed_sections": [
    "O31k9-PUMkWq"
   ],
   "name": "Stack3_Belt_Exam_03.ipynb",
   "provenance": [],
   "toc_visible": true
  },
  "kernelspec": {
   "display_name": "Python 3 (ipykernel)",
   "language": "python",
   "name": "python3"
  },
  "language_info": {
   "codemirror_mode": {
    "name": "ipython",
    "version": 3
   },
   "file_extension": ".py",
   "mimetype": "text/x-python",
   "name": "python",
   "nbconvert_exporter": "python",
   "pygments_lexer": "ipython3",
   "version": "3.7.12"
  },
  "toc": {
   "base_numbering": 1,
   "nav_menu": {},
   "number_sections": false,
   "sideBar": true,
   "skip_h1_title": false,
   "title_cell": "Table of Contents",
   "title_sidebar": "Contents",
   "toc_cell": false,
   "toc_position": {
    "height": "calc(100% - 180px)",
    "left": "10px",
    "top": "150px",
    "width": "165px"
   },
   "toc_section_display": true,
   "toc_window_display": false
  }
 },
 "nbformat": 4,
 "nbformat_minor": 1
}
